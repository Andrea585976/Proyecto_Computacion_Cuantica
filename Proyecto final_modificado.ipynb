{
 "cells": [
  {
   "cell_type": "markdown",
   "id": "a43dc1c5-2793-4c83-8d5b-6055bb1d049b",
   "metadata": {},
   "source": [
    "<table>\n",
    "    <tr style=\"background-color: transparent;  text-align:center;\">\n",
    "        <td><font size=\"7\" color=\"FF3434\">Computación cuántica</font></td>\n",
    "    </tr>\n",
    "    <tr style=\"background-color: transparent; text-align:center;\">\n",
    "        <td><font size=\"6\" color=\"black\">Proyecto: Optimización de rutas para\n",
    "una empresa de entregas </font></td>\n",
    "    </tr>\n",
    "    <tr style=\"background-color: transparent; text-align:center;\">\n",
    "        <td><font size=\"5\" color=\"black\">Facultad de Ingeniería, UNAM</font></td>\n",
    "    </tr>\n",
    "    <tr style=\"background-color: transparent; text-align:center;\">\n",
    "        <td><font size=\"4\" color=\"black\">Semestre 2024-2</font></td>\n",
    "    </tr>\n",
    "    <tr style=\"background-color: transparent; text-align:center;\">\n",
    "        <td><font size=\"3\" color=\"black\">Integrantes:</font></td>\n",
    "    </tr>\n",
    "    <tr style=\"background-color: transparent; text-align:center;\">\n",
    "        <td><font size=\"3\" color=\"black\">Andrés Urbano Andrea</font></td>\n",
    "    </tr>\n",
    "    <tr style=\"background-color: transparent; text-align:center;\">\n",
    "        <td><font size=\"3\" color=\"black\">Corona Nava Pedro Jair</font></td>\n",
    "    </tr>\n",
    "    <tr style=\"background-color: transparent; text-align:center;\">\n",
    "        <td><font size=\"3\" color=\"black\">Álvarez Sánchez Casandra Itzel</font></td>\n",
    "    </tr>\n",
    "   \n",
    "</table>"
   ]
  },
  {
   "cell_type": "markdown",
   "id": "a12d073a-fd9e-4d41-bd7f-edcee6ee49b6",
   "metadata": {},
   "source": [
    "## Contenido\n",
    "\n",
    "1. [Introducción](#1)\n",
    "2. [Marco teórico](#2)\n",
    "   1. [Problema del vendedor ambulante](#2.1)\n",
    "   2. [Algoritmo de Grover](#2.2)\n",
    "3. [Detalle del problema](#3)\n",
    "4. [Metodología](#4)\n",
    "   1. [Enfoque](#4.1)\n",
    "   2. [Definición del grafo](#4.2)\n",
    "   3. [Solución clásica](#4.3)\n",
    "   4. [Solución cuántica](#.4)\n",
    "   5. [Solución clásica vs cuántica](#4.5)\n",
    "5. [Información del sistema de ejecución](#5)\n",
    "6. [Conclusiones](#6)\n",
    "7. [Referencias](#7)"
   ]
  },
  {
   "cell_type": "markdown",
   "id": "faf52ef4-d405-443b-912a-33996263d6a5",
   "metadata": {},
   "source": [
    "# 1. Introducción"
   ]
  },
  {
   "cell_type": "markdown",
   "id": "1c5a19e3-519f-4bee-a369-52d52b04a292",
   "metadata": {},
   "source": [
    "El algoritmo de Grover, introducido por Lov Grover en 1996, constituye un desarrollo crucial en el ámbito de la computación cuántica. Este algoritmo es destacado por proporcionar una mejora considerable en la búsqueda, logrando una aceleración cuadrática en comparación con los métodos clásicos.\n",
    "\n",
    "Para comprender el algoritmo de Grover, es fundamental tener una base en computación cuántica. A diferencia de la computación clásica, que utiliza bits como unidades básicas de información (0 o 1), la computación cuántica se basa en qubits. Los qubits pueden existir en una superposición de estados, permitiendo realizar cálculos más complejos y paralelos de manera eficiente."
   ]
  },
  {
   "cell_type": "markdown",
   "id": "40ba6e06-c5c4-46b2-b1a7-3b3943b88346",
   "metadata": {},
   "source": [
    "# 2. Marco teórico"
   ]
  },
  {
   "cell_type": "markdown",
   "id": "0317d435-27cb-448f-b8aa-78dfc149fbc2",
   "metadata": {},
   "source": [
    "## 2.1 Problema del vendedor ambulante"
   ]
  },
  {
   "cell_type": "markdown",
   "id": "dc0af803-9696-4694-8a8b-dacaea1b29e5",
   "metadata": {},
   "source": [
    "### 2.1.1 Descripción del problema"
   ]
  },
  {
   "cell_type": "markdown",
   "id": "cfbd2485-9a07-4ae7-930b-23912c22488a",
   "metadata": {},
   "source": [
    "El problema del vendedor ambulante o también llamado problema del agente viajero o Traveling Salesman Problem (TSP) consiste en, dada una distribución de N ciudades, encontrar el camino más corto con el cual se visitan todas las ciudades, con las restricciones de solo poder pasar una vez por cada ciudad y de empezar y acabar el tour en la misma ciudad.\n",
    "\n",
    "Este problema pertenece al tipo de problemas NP-hard, por lo que actualmente no es posible encontrar la solución exacta en un tiempo polinómico. "
   ]
  },
  {
   "cell_type": "markdown",
   "id": "4a9daaa1-a3ab-4c7d-830c-a9a6fbbcbbe9",
   "metadata": {},
   "source": [
    "**El problema del ciclo Hamiltoniano**  \n",
    "El ciclo que visita cada vértice una vez en un grafo y regresa a el vértice inicial es conocido como ciclo Hamiltoniano. El problmea del ciclo Hamiltoniano consiste en, dado un grafo, determina si contiene un ciclo Hamiltoniano o no. \n",
    "\n",
    "El problema de ciclo Hamiltoniano es NP-Hard y puede ser transformado a el Problema del Vendedor Viajero, ya que son muy similares. El TSP puede solucionarse encontrando el ciclo Hamiltoniano. \n"
   ]
  },
  {
   "cell_type": "markdown",
   "id": "1d611ba1-a4d6-4cc8-8788-4144c75ebc52",
   "metadata": {},
   "source": [
    "### 2.1.2 Complejidad del TSP"
   ]
  },
  {
   "cell_type": "markdown",
   "id": "3ec748ba-9d7c-4a4f-bcdd-035639ee217d",
   "metadata": {},
   "source": [
    "Multiples técnicas son usadas para resolver este problema:\n",
    "\n",
    "1. **Método de fuerza bruta**: Encuentra todas las combinaciones posibles de todos los vértices.\n",
    "$$\n",
    "O(n\\ !)\\ \\text{donde n = Número de vértices/nodos del grafo} \n",
    "$$\n",
    "\n",
    "2. **Programación dinámica**: Divide el problema en problemas más pequeños, calcula esos problemas más pequeños y, cuando es necesario, utiliza el resultado de esos problemas pequeños, en lugar de computar el mismo fragmento una y otra vez.\n",
    "$$\n",
    "O(n^22^n)\\ \\text{donde n = Número de vértices/nodos del grafo}\n",
    "$$\n",
    "\n",
    "3. **Branch and Bound**: Branch and Bound se refiere a todos los métodos de búsqueda del espacio de estados en los que generamos los hijos de todos los nodos expandidos, antes de convertir cualquier nodo activo en uno expandido. En este método, encontramos el nodo más prometedor y lo ampliamos. El término \"nodo prometedor\" significa \"elegir un nodo que pueda expandirse y brindarnos una solución óptima\". Comenzamos desde la raíz y ampliamos el árbol hasta acercarnos a una solución óptima (costo mínimo en caso de este problema).\n",
    "$$\n",
    "O(n^22^n)\\ \\text{donde n = Número de vértices/nodos del grafo}\n",
    "$$\n",
    "\n",
    "5. **Enfoque heurístico**: Los enfoques heurísticos se basan en proporcionar un conjunto de reglas para la selección óptima de la próxima ciudad a viajar. Pero esto no proporciona una solución óptima en todos los casos, ya que las heurísticas dan como resultado aproximaciones."
   ]
  },
  {
   "cell_type": "markdown",
   "id": "a6ac5bf5-e945-441f-8372-68adbe6d3a5f",
   "metadata": {},
   "source": [
    "## 2.2 Algoritmo de Grover"
   ]
  },
  {
   "cell_type": "markdown",
   "id": "8bcf49e7-9ff6-4bd6-ac38-b74fe92540d7",
   "metadata": {},
   "source": [
    "El algoritmo de Grover es un algoritmo de búsqueda en una secuencia de datos no ordenada con $N$ elementos y en un tiempo $O\\sqrt{N}$.\n",
    "\n",
    "El algoritmo de Grover se aplica a problemas de búsqueda, sino que también puede adaptarse para resolver diversos problemas donde la búsqueda no estructurada es esencial, como la factorización de números grandes y la optimización combinatoria. Sin embargo, su implementación práctica está limitada por la necesidad de un hardware cuántico robusto y estable, actualmente en desarrollo."
   ]
  },
  {
   "cell_type": "markdown",
   "id": "3ac6346d-632e-4cc6-9ae5-dd595fd09d98",
   "metadata": {},
   "source": [
    "### 2.2.1 Óraculo"
   ]
  },
  {
   "cell_type": "markdown",
   "id": "7e618d8d-25b4-4d34-a137-0111c06f2df8",
   "metadata": {},
   "source": [
    "El oráculo del algoritmo de Grover que resulve el problema de búsqueda local corresponde a un bloque que asigna una fase negativa al estado solución, es decir, dejando los demás estados tal y como estaban. Para cualquier estado $\\ket{x}$ de la base computacional, tomando como solución un estado arbitrario $\\ket{w}$, el oráculo vendría dado por\n",
    "\\begin{align*}\n",
    "f(x)&=\\ket{x} &\\mbox{ si $x\\neq w$ }\\\\\n",
    "f(x)&=-\\ket{x} &\\mbox{ si $x=w$}\n",
    "\\end{align*}\n",
    "\n",
    "También se podría expresar de la siguiente manera, siendo $f(x)$ una función que únicamente vale 1 cuando $x$ es igual al estado solución $ω$ y 0 en los demás casos.\n",
    "\n",
    "$$ U_w(\\ket{x})=(-1)^{f(x)} \\ket{x} $$\n",
    "\n",
    "En resumen, el oráculo se corresponde con una matriz diagonal en la cual la entrada correspondiente al estado $ω$ tendrá una fase negativa. Dependiendo del tipo de problema, la implementación de este bloque puede tener una mayor complejidad, llegando a necesitar qubits extra, también llamados qubits ancilla."
   ]
  },
  {
   "cell_type": "markdown",
   "id": "da7990b6-4be3-47ee-a1d3-5c250c8d8940",
   "metadata": {},
   "source": [
    "### 2.2.2 Amplificador"
   ]
  },
  {
   "cell_type": "markdown",
   "id": "fa6e630b-7e27-4792-83bf-7c889285f722",
   "metadata": {},
   "source": [
    "Otra parte del algoritmo de Grover es el amplicador, difusor, o inversión sobre la media. Viene dado por la expresión\n",
    "\n",
    "\\begin{align*}\n",
    "U_s=H^{\\otimes n} (2\\ket{\\mathbf{0}}\\bra{\\mathbf{0}}-I)H^{\\otimes n}\n",
    "\\end{align*} \n",
    "\n",
    "la cual lo podemos simplificar como\n",
    "\n",
    "\\begin{align*}\n",
    "U_s=2\\ket{s}\\bra{s}-I\n",
    "\\end{align*}\n"
   ]
  },
  {
   "cell_type": "markdown",
   "id": "e85b1a83-5380-4f26-88b3-113a7996f3dc",
   "metadata": {},
   "source": [
    "## 3. Detalle del problema"
   ]
  },
  {
   "cell_type": "markdown",
   "id": "ec2d4dc5-de93-41d9-bb0b-56fc8faa3cb3",
   "metadata": {},
   "source": [
    "La empresa de vinos Gallo Winery tiene como objetivo la distribución de vinos tintos a diversas cadenas de restaurantes en diversos países de Europa. Dado el valor de cada entrega, se evaluaron minuciosamente los costos, determinando las rutas más eficientes para optimizar los tiempos de entrega.\n",
    "Como punto de partida fundamental, se seleccionaron las siguientes ciudades estratégicas: Milán,\n",
    "París, Londres, Bruselas y Múnich. \n",
    "\n",
    "En este proceso logístico, Milán se establece como el punto de origen, con destinos en cuatro\n",
    "países europeos. La selección de estos países se basa no solo en la idoneidad de la mercancía, sino\n",
    "también en el análisis exhaustivo de los traslados y su impacto en la operatividad general.\n",
    "En el caso específico de Londres, se ha decidido prescindir del transporte terrestre. Tras un análisis\n",
    "detallado de costos y rutas óptimas, se concluye que, para maximizar la eficiencia de la entrega, el\n",
    "transporte aéreo resulta más conveniente. Sin embargo, si la prioridad es reducir costos, el\n",
    "transporte marítimo se vuelve una alternativa viable. Esta decisión se toma considerando\n",
    "especialmente la robustez, resistencia y fiabilidad de los buques, que los hacen superiores en\n",
    "entornos complejos e inestables.\n",
    "\n",
    "El transporte marítimo ofrece además una mayor flexibilidad para movilizar mercancías y manejar un\n",
    "volumen considerable de cargas, teniendo en cuenta sus dimensiones, peso y condiciones\n",
    "específicas. Esta capacidad de adaptación a diversas variables hace del transporte marítimo la\n",
    "opción más adecuada para nuestras necesidades logísticas."
   ]
  },
  {
   "cell_type": "markdown",
   "id": "9a9ba5d9-695f-48aa-8b9a-cf08a47a2fb7",
   "metadata": {},
   "source": [
    "## 4. Metodología"
   ]
  },
  {
   "cell_type": "markdown",
   "id": "af7756e3-10cc-42a9-bc4a-a48287b314c0",
   "metadata": {},
   "source": [
    "### 4.1 Enfoque"
   ]
  },
  {
   "cell_type": "markdown",
   "id": "125495a2-bfeb-4230-9664-db3541b61f95",
   "metadata": {},
   "source": [
    "Consideraremos todo el problema en términos de grafos. Las ciudades se representan como vértices y el costo/camino como aristas.\n",
    "\n",
    "* Cada ciudad está conectada con otras ciudades con un costo específico asociado a cada conexión."
   ]
  },
  {
   "cell_type": "markdown",
   "id": "cab0b955-331e-43cf-8f25-0168e76d8e1c",
   "metadata": {},
   "source": [
    "### 4.2 Definición del grafo"
   ]
  },
  {
   "cell_type": "markdown",
   "id": "5b382737-b7b4-4985-a199-81df19ef6983",
   "metadata": {},
   "source": [
    "El grafo de las ciudades que utilizaremos es el siguiente:\n",
    "\n",
    "<img src=\"https://raw.githubusercontent.com/Andrea585976/Proyecto_Computacion_Cuantica/main/ciudades.png\" width=\"400\" height=\"300\">\n",
    "\n",
    "En donde hemos marcado la ruta óptima. "
   ]
  },
  {
   "cell_type": "code",
   "execution_count": 1,
   "id": "988a7588-e938-4e33-839e-af1283060d6a",
   "metadata": {},
   "outputs": [],
   "source": [
    "import matplotlib.colors as mcolors\n",
    "import matplotlib.pyplot as plt\n",
    "import networkx as nx"
   ]
  },
  {
   "cell_type": "code",
   "execution_count": 2,
   "id": "8341696a-01a9-4d04-a2f7-759bc6d840e2",
   "metadata": {},
   "outputs": [],
   "source": [
    "def graph_viz(G):\n",
    "    \"\"\"Visualizar un grafo NetworkX\n",
    "\n",
    "    Parámetros\n",
    "    ----------\n",
    "    G : networkx.Graph\n",
    "        El grafo de NetworkX que se visualizará.\n",
    "\n",
    "    nx.draw_kamada_kawai(\n",
    "        G,\n",
    "        with_labels=True,\n",
    "        node_size=600,\n",
    "        width=2,\n",
    "        font_size=10,\n",
    "        font_weight=\"bold\",\n",
    "        font_color=\"whitesmoke\",\n",
    "    )\n",
    "    \"\"\"\n",
    "    options = {\n",
    "        \"node_size\": 600,\n",
    "        \"width\": 3,\n",
    "        \"arrowstyle\": \"--|>\",\n",
    "        \"arrowsize\": 40,\n",
    "        \"font_size\": 20,\n",
    "        \"font_weight\": \"bold\",\n",
    "        \"font_color\": \"whitesmoke\",\n",
    "    }\n",
    "    pos = nx.kamada_kawai_layout(G)  # pos = nx.nx_agraph.graphviz_layout(G)\n",
    "    nx.draw_networkx(G, pos, **options)\n",
    "    labels = nx.get_edge_attributes(G, \"weight\")\n",
    "    nx.draw_networkx_edge_labels(G, pos, edge_labels=labels)\n",
    "    plt.axis(\"off\")\n",
    "    plt.show()\n",
    "\n",
    "\n",
    "def maxcut_viz(G, cut_nodes):\n",
    "    \"\"\"Visualizar el resultado del problema MaxCut.\n",
    "\n",
    "    Parámetros\n",
    "    ----------\n",
    "    G : networkx.Graph\n",
    "        Grafo NetworkX del problema.\n",
    "    cut_nodes : dict\n",
    "\n",
    "    \"\"\"\n",
    "    if isinstance(cut_nodes, dict):\n",
    "        cut = set()\n",
    "        for node, value in cut_nodes.items():\n",
    "            if value == 1:\n",
    "                cut.add(node)\n",
    "    else:\n",
    "        cut = cut_nodes\n",
    "\n",
    "    S0 = [node for node in G.nodes if node in cut]\n",
    "    S1 = [node for node in G.nodes if node not in cut]\n",
    "\n",
    "    cut_edges = [\n",
    "        (u, v)\n",
    "        for u, v in G.edges\n",
    "        if (u in S0 and v not in S0) or (u in S1 and v not in S1)\n",
    "    ]\n",
    "    uncut_edges = [\n",
    "        (u, v) for u, v in G.edges if (u in S0 and v in S0) or (u in S1 and v in S1)\n",
    "    ]\n",
    "\n",
    "    pos = nx.kamada_kawai_layout(G)\n",
    "    nx.draw_networkx_nodes(G, pos, nodelist=S0, node_color=\"tab:red\", node_size=700)\n",
    "    nx.draw_networkx_nodes(G, pos, nodelist=S1, node_color=\"tab:green\", node_size=700)\n",
    "    nx.draw_networkx_edges(\n",
    "        G,\n",
    "        pos,\n",
    "        edgelist=cut_edges,\n",
    "        style=\"dashed\",\n",
    "        edge_color=\"tab:blue\",\n",
    "        alpha=0.7,\n",
    "        width=3,\n",
    "    )\n",
    "    nx.draw_networkx_edges(G, pos, edgelist=uncut_edges, style=\"solid\", width=3)\n",
    "    nx.draw_networkx_labels(\n",
    "        G, pos, font_size=14, font_weight=\"bold\", font_color=\"whitesmoke\"\n",
    "    )\n",
    "\n",
    "    plt.tight_layout()\n",
    "    plt.axis(\"off\")\n",
    "    plt.show()\n",
    "\n",
    "\n",
    "def graph_coloring_viz(G, coloring):\n",
    "    \"\"\"Visualizar la salida del problema del graph coloring.\n",
    "\n",
    "    Parámetros\n",
    "    ----------\n",
    "    G : networkx.Graph\n",
    "        Grafo NetworkX del problema.\n",
    "\n",
    "    coloring : dict\n",
    "        Los colores asignado a los nodos.\n",
    "    \"\"\"\n",
    "\n",
    "    color_list = {\n",
    "        \"B\": \"tab:blue\",\n",
    "        \"O\": \"tab:orange\",\n",
    "        \"G\": \"tab:green\",\n",
    "        \"R\": \"tab:red\",\n",
    "        \"P\": \"tab:pink\",\n",
    "        \"Y\": \"tab:olive\",\n",
    "    }\n",
    "\n",
    "    colors = list(mcolors.TABLEAU_COLORS)\n",
    "\n",
    "    pos = nx.kamada_kawai_layout(G)\n",
    "\n",
    "    for node, color in coloring.items():\n",
    "        if isinstance(color, int):\n",
    "            nx.draw_networkx_nodes(\n",
    "                G, pos, nodelist=[node], node_color=[colors[color]], node_size=700\n",
    "            )\n",
    "        elif isinstance(color, str):\n",
    "            nx.draw_networkx_nodes(\n",
    "                G, pos, nodelist=[node], node_color=[color_list[color]], node_size=700\n",
    "            )\n",
    "        elif isinstance(color, list):\n",
    "            nx.draw_networkx_nodes(\n",
    "                G, pos, nodelist=[node], node_color=\"tab:black\", node_size=700\n",
    "            )\n",
    "\n",
    "    nx.draw_networkx_edges(G, pos, edgelist=G.edges, style=\"solid\", width=3)\n",
    "    nx.draw_networkx_labels(\n",
    "        G, pos, font_size=14, font_weight=\"bold\", font_color=\"whitesmoke\"\n",
    "    )\n",
    "    plt.tight_layout()\n",
    "    plt.axis(\"off\")\n",
    "    plt.show()\n",
    "\n",
    "\n",
    "def tsp_viz(G, input_path):\n",
    "    \"\"\"Visualizar la salida del travelling salesman problem.\n",
    "\n",
    "    Parámetros\n",
    "    ----------\n",
    "    G : networkx.Graph\n",
    "        Grafo NetworkX del problema.\n",
    "\n",
    "    input_path : list/dict\n",
    "        El orden en que se visitan las ciudades.\n",
    "    \"\"\"\n",
    "    if isinstance(input_path, dict):\n",
    "        input_path = [city for (pos, [city]) in sorted(input_path.items())]\n",
    "\n",
    "    path = []\n",
    "    for i in range(len(input_path)):\n",
    "        if i + 1 == len(input_path):\n",
    "            path.append((input_path[i], input_path[0]))\n",
    "        else:\n",
    "            path.append((input_path[i], input_path[i + 1]))\n",
    "\n",
    "    non_path = [(u, v) for u, v in G.edges if (u, v) not in path and (v, u) not in path]\n",
    "\n",
    "    pos = nx.kamada_kawai_layout(G)\n",
    "    nx.draw_networkx_nodes(\n",
    "        G, pos, nodelist=G.nodes, node_color=\"tab:blue\", node_size=700\n",
    "    )\n",
    "\n",
    "    nx.draw_networkx_edges(\n",
    "        G,\n",
    "        pos,\n",
    "        edgelist=path,\n",
    "        style=\"solid\",\n",
    "        width=3,\n",
    "        arrows=True,\n",
    "        arrowstyle=\"->\",\n",
    "        arrowsize=30,\n",
    "    )\n",
    "    nx.draw_networkx_edges(\n",
    "        G,\n",
    "        pos,\n",
    "        edgelist=non_path,\n",
    "        style=\"dashed\",\n",
    "        edge_color=\"tab:blue\",\n",
    "        alpha=0.7,\n",
    "        width=3,\n",
    "    )\n",
    "\n",
    "    nx.draw_networkx_labels(\n",
    "        G, pos, font_size=14, font_weight=\"bold\", font_color=\"whitesmoke\"\n",
    "    )\n",
    "    labels = nx.get_edge_attributes(G, \"weight\")\n",
    "    nx.draw_networkx_edge_labels(G, pos, edge_labels=labels)\n",
    "    plt.tight_layout()\n",
    "    plt.axis(\"off\")\n",
    "    plt.show()"
   ]
  },
  {
   "cell_type": "code",
   "execution_count": 3,
   "id": "06e65a86-2782-44cc-9708-c9a5c252020b",
   "metadata": {},
   "outputs": [
    {
     "name": "stderr",
     "output_type": "stream",
     "text": [
      "C:\\Users\\Andre\\anaconda3\\envs\\ccuantica\\lib\\site-packages\\networkx\\drawing\\nx_pylab.py:305: UserWarning: \n",
      "\n",
      "The arrowstyle keyword argument is not applicable when drawing edges\n",
      "with LineCollection.\n",
      "\n",
      "To make this warning go away, either specify `arrows=True` to\n",
      "force FancyArrowPatches or use the default value for arrowstyle.\n",
      "Note that using FancyArrowPatches may be slow for large graphs.\n",
      "\n",
      "  draw_networkx_edges(G, pos, arrows=arrows, **edge_kwds)\n"
     ]
    },
    {
     "data": {
      "image/png": "[encoded data removed]",
      "text/plain": [
       "<Figure size 640x480 with 1 Axes>"
      ]
     },
     "metadata": {},
     "output_type": "display_data"
    }
   ],
   "source": [
    "G = nx.Graph()\n",
    "G.add_weighted_edges_from(\n",
    "    [('Mi', 'Pa', 639.58), ('Mi', 'Lo', 959.34), ('Mi', 'Br', 697.95), ('Mi', 'Mu', 348.29), ('Pa', 'Lo', 343.56), ('Pa', 'Br', 263.9), ('Pa', 'Mu', 683.92), ('Lo', 'Br', 320.31), ('Lo', 'Mu', 917.96), ('Br', 'Mu', 602.47)]\n",
    ")\n",
    "graph_viz(G)\n",
    "#path = ['Mi', 'Pa', 'Lo', 'Br', 'Mu']\n",
    "#tsp_viz(G, path)"
   ]
  },
  {
   "cell_type": "markdown",
   "id": "4d3d9821-6430-46d0-9f2b-81f47f223d3d",
   "metadata": {},
   "source": [
    "### 4.3 Solución clásica"
   ]
  },
  {
   "cell_type": "markdown",
   "id": "522bb286-2690-401e-9791-c175048a22fa",
   "metadata": {},
   "source": [
    "**Descripción de la implementación**\n",
    "\n",
    "En primera instancia definimos nuestra matriz de distancias (obtenidas de datos reales proporcionados por Google Maps), esta matriz la asignamos al objeto llamado “distances”. Además definimos un arreglo que representa las ciudades con la siguiente distribución: $0 = Milán$, $1 = Paris$, $2 = Londres$, $3 = Bruselas$ y $4= Múnich$.\n",
    "\n",
    "Una vez que tenemos la distribución de las ciudades procedemos a generar todas las permutaciones de rutas posibles, es decir, todas las combinaciones que se pueden dar con nuestras ciudades.\n",
    "\n",
    "Posteriormente y con el objetivo de brindar una respuesta más intuitiva decidimos agregar un índice a cada combinación resultante, para después mostrar en pantalla el índice, su respectiva permutación y a que binario estaba asociado.\n",
    "\n",
    "Bien, ahora que ya tenemos de forma gráfica a que ruta pertenece cada índice procedimos a definir la función para calcular la distancia de cada una de estas rutas, la cual llamamos `calculate_route_distance`. En ella se recibe como parámetro una ruta, se define una variable en 0 llamada `total_distance` la cual guardará la distancia total de la ruta proporcionada, para esto hacemos uso de un ciclo for el cual nos ayuda a sumar el valor de la distancia (obtenido de la matriz de distancias previamente definida) dependiendo de la ciudad actual y de la ciudad destino, que en código se visualiza como el índice $i$ de la ruta y el índice $i+1$. Al salir del ciclo agregamos una distancia más que es el valor de regresar a la ciudad de origen. Como ya se mencionó esta función nos regresa la distancia total por ruta dada.\n",
    "\n",
    "Definimos dos variables más: `optimal_route` y `optimal_route_index`. A la primera se le asigan el valor resultante de la sentencia `min(routes, key=calculate_route_distance)`, la cual nos indica que se va a buscar el valor mínimo del total de distancias por ruta, ya que tiene como parámetro la lista de todas las rutas posibles y su respectiva distancia.\n",
    "\n",
    "En la segunda variable se almacena el índice que le corresponde a la ruta óptima previamente localizada.\n",
    "\n",
    "Por último, tenemos tres print para mostrar los resultados obtenidos de una manera sencilla y clara. Se muestra la ruta óptima, el índice de dicha ruta y la representación binaria asignada a la ruta.\n"
   ]
  },
  {
   "cell_type": "code",
   "execution_count": null,
   "id": "9b4989fe-b166-486e-972e-ccc94678ad94",
   "metadata": {},
   "outputs": [],
   "source": [
    "import itertools\n",
    "import numpy as np\n",
    "\n",
    "# Matriz de distancias\n",
    "distances = np.array([[0, 639.58, 959.34, 697.95, 348.29],\n",
    "                      [639.58, 0, 343.56, 263.90, 683.92],\n",
    "                      [959.34, 343.56, 0, 320.31, 917.96],\n",
    "                      [697.95, 263.90, 320.31, 0, 602.47],\n",
    "                      [348.29, 683.92, 917.96, 602.47, 0]])\n",
    "\n",
    "# Definir ciudades\n",
    "cities = [0, 1, 2 ,3, 4]\n",
    "\n",
    "# Generar todas las permutaciones de rutas posibles\n",
    "routes = list(itertools.permutations(cities))\n",
    "\n",
    "# Mapeo de índice a permutación\n",
    "index_to_route = {i: route for i, route in enumerate(routes)}\n",
    "\n",
    "# Mostrar el mapeo de índices a rutas y su representación binaria\n",
    "for i in range(len(routes)):\n",
    "    print(f\"Índice {i}: Ruta {routes[i]} -> Binario: {format(i, '04b')}\")\n",
    "\n",
    "# Función para calcular la distancia de una ruta\n",
    "def calculate_route_distance(route):\n",
    "    total_distance = 0\n",
    "    for i in range(len(route) - 1):\n",
    "        total_distance += distances[route[i]][route[i + 1]]\n",
    "    total_distance += distances[route[-1]][route[0]]  # Regresar a la ciudad de origen\n",
    "    return total_distance\n",
    "\n",
    "# Encontrar la ruta óptima\n",
    "optimal_route = min(routes, key=calculate_route_distance)\n",
    "optimal_route_index = routes.index(optimal_route)\n",
    "\n",
    "print(\"\\nRuta óptima:\", optimal_route)\n",
    "print(\"Índice de la ruta óptima:\", optimal_route_index)\n",
    "print(\"Representación binaria de la ruta óptima:\", format(optimal_route_index, '04b'))"
   ]
  },
  {
   "cell_type": "markdown",
   "id": "e4073d66-3db8-44f4-9273-d6f063c2821a",
   "metadata": {},
   "source": [
    "### 4.4 Solución cuántica"
   ]
  },
  {
   "cell_type": "markdown",
   "id": "a134dde2-c5b6-4623-98d4-7e5548c155aa",
   "metadata": {},
   "source": [
    "#### 4.4.1 Implementación del Oráculo"
   ]
  },
  {
   "cell_type": "markdown",
   "id": "5a807fc2-f3d3-4bf9-87b7-a8029c02d76f",
   "metadata": {},
   "source": [
    "En primer lugar, podemos dividir el funcionamiento del oráculo en dos partes. La primera es una\n",
    "conversión o escalado de las distancias proporcionadas a fases. La segunda parte y más importante\n",
    "consiste en cómo implementar una función que se encarga de asignar estas fases a cada uno de los\n",
    "estados cuánticos, los cuales equivalen a los caminos."
   ]
  },
  {
   "cell_type": "markdown",
   "id": "c522532b-79a5-4824-b44b-056ac2fe80fd",
   "metadata": {},
   "source": [
    "##### 4.4.1.1 Escalado de distancias"
   ]
  },
  {
   "cell_type": "markdown",
   "id": "9722a8c3-78dc-4a5f-97cf-40d3888f4d21",
   "metadata": {},
   "source": [
    "Esta parte consiste en un escalado de las distancias entre cada par de ciudades. Este escalado consiste en, a partir de una matriz que contiene las distancias entre cada par de ciudades, clasificarlas como fase $0$ o fase $\\pi/2$. Para considerar que valor de distancia se le asigna una fase $0$ o de fase $π/2$ , se realiza siguiente procedimiento.\n",
    "\n",
    "1. Calcular valor medio en cada fila:\n",
    "$$\n",
    "\\beta=\\frac{MAX-MIN}{2}\n",
    "$$\n",
    "\n",
    "2.Establecer rango de distancias asociadas a fase $0$ y fase $π/2$  \n",
    "$$\n",
    "[MIN, ,MIN+\\beta]=0    \n",
    "$$\n",
    "$$\n",
    "(MIN+\\beta, MAX]=\\frac{\\pi}{2}\n",
    "$$\n",
    "\n",
    "Este escalado no se hace una vez para la matriz completa, sino que se hace en\n",
    "cada una de las filas por separado, ya que se ha comprobado que se obtiene un mejor resultado de esta forma. Este proceso se ha implementado mediante la función `escalarMatriz(m)`, a la cual se le pasa como parámetro la matriz de distancias, y devuelve la matriz de fases."
   ]
  },
  {
   "cell_type": "markdown",
   "id": "414d89a5-1016-4039-9439-e5f7a8d3594c",
   "metadata": {},
   "source": [
    "##### 4.4.1.2 Asignación de fases"
   ]
  },
  {
   "cell_type": "markdown",
   "id": "9948c7ae-a67e-42dd-b358-402230ca5994",
   "metadata": {},
   "source": [
    "Una vez tenemos la matriz de fases, queda asignar dichas fases a los estados cuánticos. Para ello, se han implementado dos funciones: `coste1q()` y `phasing()`.\n",
    "\n",
    "La función `coste1q()` actúa sobre un único qubit y se encarga de dar las fases a y b, que se le pasan como parámetros, a los estados $\\ket{0}$ y $\\ket{1}$ respectivamente. Esta función crea un circuito cuántico de un solo qubit, y mediante dos puertas FASE y una puerta NOT, se les asigna dichas fases a los estados cuánticos. La primera puerta de fase actúa sobre el estado $\\ket{0}$ y la segunda sobre el estado $\\ket{1}$.\n",
    "\n",
    "La función `phasing()` se encarga de dar fases a todos los estados que forman el espacio de Hilbert. Esta función crea un circuito más grande, en el que, gracias a la función coste1q(a,b) como puerta condicionada, es posible asignar las fases correspondientes a cada estado.\n",
    "\n",
    "Se han utilizado un total de cinco qubits en nuestro circuito, por lo que la función\n",
    "`coste1q()` como puerta condicionada tendría como qubit destino el qubit 0, y los qubits del 1 al 4 como qubits de control.\n",
    "\n",
    "Como, en la matriz escalada, cada enlace entre cada par de ciudades tiene, o bien fase 0, o bien fase $π/2$ , es necesario decidir de qué forma se van a aplicar dichas fases a los estados, para que la fase final de cada uno tenga uno de los valores de fase válidos, los cuales son $[0, π/2 , π, 3π/2]$. Para conseguirlo, solo se han tenido en cuenta los tres primeros pasos de cada camino, ya que con cualquier combinación de fases de la matriz obtendríamos una fase final dentro del rango válido. En cambio, para tener en cuenta todo el camino completo, tendríamos que dividir los caminos en más grupos de fases."
   ]
  },
  {
   "cell_type": "markdown",
   "id": "e9dd5965-1772-4bfa-b85e-d2ba402e8e04",
   "metadata": {},
   "source": [
    "#### 4.4.1 Resultados obtenidos"
   ]
  },
  {
   "attachments": {},
   "cell_type": "markdown",
   "id": "728939d2-df3d-4f9b-90fd-ef46c4d54a1e",
   "metadata": {},
   "source": [
    "A partir de la matriz de distancia de ciudades propuestaescribir matriz en markdown\n",
    "\n",
    "$$\n",
    "M =\n",
    "\\left(\\begin{array}{cc} \n",
    "0 & 639.58 & 959.34 & 697.95 & 348.29 \\\\\n",
    "639.58 & 0 & 343.56 & 263.90 & 683.92 \\\\\n",
    "959.34 & 343.56 & 0 & 320.31 & 917.96 \\\\\n",
    "697.95 & 263.90 & 320.31 & 0 & 602.47 \\\\\n",
    "348.29 & 683.92 & 917.96 & 602.47 & 0 \\\\\n",
    "\\end{array}\\right)\n",
    "$$ \n",
    "\n",
    "Obtenemos la siguiente matriz escalada a fases\n",
    "\n",
    "$$\n",
    "M =\n",
    "\\left(\\begin{array}{cc} \n",
    "0 & 0 & \\frac{\\pi}{2} & \\frac{\\pi}{2} & 0 \\\\\n",
    "\\frac{\\pi}{2} & 0 & 0 & 0 & \\frac{\\pi}{2} \\\\\n",
    "\\frac{\\pi}{2} & 0 & 0 & 0 & \\frac{\\pi}{2} \\\\\n",
    "\\frac{\\pi}{2} & 0 & 0 & 0 & \\frac{\\pi}{2} \\\\\n",
    "0 & \\frac{\\pi}{2} & \\frac{\\pi}{2} & 0 & 0 \\\\\n",
    "\\end{array}\\right)\n",
    "$$\n",
    "\n",
    "Ahora, procedemos a ejecutar el algoritmo."
   ]
  },
  {
   "cell_type": "code",
   "execution_count": 1,
   "id": "b5c5fcf6",
   "metadata": {},
   "outputs": [],
   "source": [
    "# im p o r t i n g Q i s k i t\n",
    "from qiskit import IBMQ, Aer , assemble , transpile\n",
    "from qiskit import QuantumCircuit , ClassicalRegister, QuantumRegister\n",
    "\n",
    "# impor t b a s i c t o o l s\n",
    "import matplotlib.pyplot as plt\n",
    "import numpy as np\n",
    "import pandas as pd\n",
    "import random as rd\n",
    "from qiskit.visualization import plot_histogram\n",
    "from math import pi , sqrt"
   ]
  },
  {
   "cell_type": "code",
   "execution_count": 2,
   "id": "282e134a",
   "metadata": {},
   "outputs": [],
   "source": [
    "#Función que a s i g n a una f a s e a cada e s t a d o p o s i b l e con 1 q u b i t\n",
    "#Los v a l o r e s de en t r a d a se o b t i e n e n de l a m a t r i z de f a s e s\n",
    "\n",
    "def coste1q(a,b) :\n",
    "    qc = QuantumCircuit ( 1 )\n",
    "    qc.p(a, 0)\n",
    "    qc.x(0)\n",
    "    qc.p(b, 0)\n",
    "    return qc\n"
   ]
  },
  {
   "cell_type": "code",
   "execution_count": 3,
   "id": "054815ac",
   "metadata": {},
   "outputs": [],
   "source": [
    "# Función para p a s a r l a m a t r i z de c o s t e s a f a s e s\n",
    "def escalarMatriz(m2) :\n",
    "    matrix = pd.DataFrame (m2)\n",
    "    maxValues = matrix.max( axis = 1 )\n",
    "    minValues = matrix.min( axis = 1 )\n",
    "\n",
    "    for i in range ( 5 ) :\n",
    "        a = maxValues[i]\n",
    "        b = minValues[i]\n",
    "        c = (a-b)/2\n",
    "        for j in range ( 5 ) :\n",
    "            d = m2[i][j]\n",
    "            if( d>=b ) and ( d<=b+c ):\n",
    "                m2[ i ] [ j ]=0\n",
    "            elif( d>=b+c+1) and ( d<=a ):\n",
    "                m2[i][j]= pi /2\n",
    "    return m2\n"
   ]
  },
  {
   "cell_type": "code",
   "execution_count": 4,
   "id": "e2ffb9be",
   "metadata": {},
   "outputs": [],
   "source": [
    "#De f in imos f u n c i ó n que da l a s f a s e s a l o s d i f e r e n t e s e s t a d o s\n",
    "def phasing( ):\n",
    "    qc = QuantumCircuit( 5 )\n",
    "    cPhase0000=coste1q(m[0][1] + m[1][2] + m[2][3] , m[0][1] + m[1][2] + m[2][4]).to_gate( ).control(4)\n",
    "    qc.x([ 1 , 2 , 3 , 4 ] )\n",
    "    qc.append( cPhase0000 , [ 4 , 3 , 2 , 1 , 0 ] )\n",
    "    qc.x( [ 1 , 2 , 3 , 4 ] )\n",
    "    \n",
    "    cPhase0001=coste1q(m[0][1] + m[1][3] + m[3][4] , m[0][1] + m[1][3] + m[3][2]).to_gate( ).control(4)\n",
    "    qc.cx(1, [ 2 , 3 , 4 ])\n",
    "    qc.append(cPhase0001 , [ 4 , 3 , 2 , 1 , 0 ])\n",
    "    qc.cx(1, [ 2 , 3 , 4 ] )\n",
    "    \n",
    "    cPhase0010=coste1q(m[0][1] + m[1][4] + m[4][2] , m[0][1] + m[1][4] + m[4][3]).to_gate( ).control(4)\n",
    "    qc.cx ( 2 , [ 1 , 3 , 4 ] )\n",
    "    qc.append ( cPhase0010 , [ 4 , 3 , 2 , 1 , 0 ] )\n",
    "    qc.cx ( 2 , [ 1 , 3 , 4 ] )\n",
    "    \n",
    "    cPhase0011=coste1q( pi , pi ).to_gate( ).control(4)\n",
    "    qc.mcx ( [ 1 , 2 ] , 3 )\n",
    "    qc.mcx ( [ 1 , 2 ] , 4 )\n",
    "    qc.append ( cPhase0011 , [ 4 , 3 , 2 , 1 , 0 ] )\n",
    "    qc.mcx ( [ 1 , 2 ] , 3 )\n",
    "    qc.mcx ( [ 1 , 2 ] , 4 )\n",
    "    \n",
    "    cPhase0100=coste1q(m[0][2] + m[2][3] + m[3][4] , m[0][2] + m[2][3] + m[3][1]).to_gate( ).control(4)\n",
    "    qc.cx( 3 , 4 )\n",
    "    qc.cx( 3 , 1 )\n",
    "    qc.cx( 3 , 2 )\n",
    "    qc.append( cPhase0100 , [ 4 , 3 , 2 , 1 , 0 ] )\n",
    "    qc.cx ( 3 , 4 )\n",
    "    qc.cx ( 3 , 1 )\n",
    "    qc.cx ( 3 , 2 )\n",
    "    \n",
    "    cPhase0101=coste1q(m[0][2] + m[2][4] + m[4][1] , m[0][2] + m[2][4] + m[4][3]).to_gate( ).control(4)\n",
    "    qc.mcx ( [ 1 , 3 ] , 2 )\n",
    "    qc.mcx ( [ 1 , 3 ] , 4 )\n",
    "    qc.append ( cPhase0101 , [ 4 , 3 , 2 , 1 , 0 ] )\n",
    "    qc.mcx ( [ 1 , 3 ] , 2 )\n",
    "    qc.mcx ( [ 1 , 3 ] , 4 )\n",
    "    \n",
    "    cPhase0110=coste1q(m[0][2] + m[2][1] + m[1][3] ,m [0][2] + m[2][1 ] +m[1][4]).to_gate( ).control(4)\n",
    "    qc.mcx ( [ 2 , 3 ] , 1 )\n",
    "    qc.mcx ( [ 2 , 3 ] , 4 )\n",
    "    qc.append ( cPhase0110 , [ 4 , 3 , 2 , 1 , 0 ] )\n",
    "    qc.mcx ( [ 2 , 3 ] , 1 )\n",
    "    qc.mcx ( [ 2 , 3 ] , 4 )\n",
    "    \n",
    "    cPhase0111=coste1q( pi , pi ).to_gate( ).control(4)\n",
    "    qc.mcx ( [ 1 , 2 , 3 ] , 4 )\n",
    "    qc.append ( cPhase0111 , [ 4 , 3 , 2 , 1 , 0 ] )\n",
    "    qc.mcx ( [ 1 , 2 , 3 ] , 4 )\n",
    "    \n",
    "    cPhase1000=coste1q(m[0][3] +m[3][4] +m[4][1] ,m[0][3] +m[3][4] +m[4][2] ).to_gate( ).control(4)\n",
    "    qc.cx ( 4 , [ 3 , 2 , 1 ] )\n",
    "    qc.append ( cPhase1000 , [ 4 , 3 , 2 , 1 , 0 ] )\n",
    "    qc.cx ( 4 , [ 3 , 2 , 1 ] )\n",
    "    \n",
    "    cPhase1001=coste1q(m[0][3] +m[3][1] +m[1][2] ,m[0][3] +m[3][1] +m[1][4]).to_gate( ).control(4)\n",
    "    qc.mcx ( [ 4 , 1 ] , 3 )\n",
    "    qc.mcx ( [ 4 , 1 ] , 2 )\n",
    "    qc.append ( cPhase1001 , [ 4 , 3 , 2 , 1 , 0 ] )\n",
    "    qc.mcx ( [ 4 , 1 ] , 3 )\n",
    "    qc.mcx ( [ 4 , 1 ] , 2 )\n",
    "    \n",
    "    cPhase1010=coste1q(m[0][3] +m[3][2] +m[2][4] ,m[0][3] +m[3][2] +m[2][1]).to_gate( ).control(4)\n",
    "    qc . mcx ( [ 4 , 2 ] , 3 )\n",
    "    qc . mcx ( [ 4 , 2 ] , 1 )\n",
    "    qc . append ( cPhase1010 , [ 4 , 3 , 2 , 1 , 0 ] )\n",
    "    qc . mcx ( [ 4 , 2 ] , 3 )\n",
    "    qc . mcx ( [ 4 , 2 ] , 1 )\n",
    "    \n",
    "    cPhase1011=coste1q( pi , pi ).to_gate( ).control(4)\n",
    "    qc.mcx ( [ 4 , 2 , 1 ] , 3 )\n",
    "    qc.append ( cPhase1011 , [ 4 , 3 , 2 , 1 , 0 ] )\n",
    "    qc.mcx ( [ 4 , 2 , 1 ] , 3 )\n",
    "    \n",
    "    cPhase1100=coste1q(m[0][4] +m[4][1] +m[1][2] ,m[0][4] +m[4][1] +m[1][3]).to_gate( ).control(4)\n",
    "    qc.mcx ( [ 4 , 3 ] , 2 )\n",
    "    qc.mcx ( [ 4 , 3 ] , 1 )\n",
    "    qc.append ( cPhase1100 , [ 4 , 3 , 2 , 1 , 0 ] )\n",
    "    qc.mcx ( [ 4 , 3 ] , 2 )\n",
    "    qc.mcx ( [ 4 , 3 ] , 1 )\n",
    "    \n",
    "    cPhase1101=coste1q(m[0][4] +m[4][2] +m[2][3] ,m[0][4] +m[4][2] +m[2][1]).to_gate( ).control(4)\n",
    "    qc.mcx ( [ 4 , 3 , 1 ] , 2 )\n",
    "    qc.append ( cPhase1101 , [ 4 , 3 , 2 , 1 , 0 ] )\n",
    "    qc.mcx ( [ 4 , 3 , 1 ] , 2 )\n",
    "    \n",
    "    cPhase1110=coste1q(m[0][4] +m[4][3] +m[3][1] ,m[0][4] +m[4][3] +m[3][2]).to_gate( ).control(4)\n",
    "    qc.mcx ( [ 4 , 3 , 2 ] , 1 )\n",
    "    qc.append ( cPhase1110 , [ 4 , 3 , 2 , 1 , 0 ] )\n",
    "    qc.mcx ( [ 4 , 3 , 2 ] , 1 )\n",
    "    \n",
    "    cPhase1111=coste1q( pi , pi ).to_gate( ).control(4)\n",
    "    qc.append ( cPhase1111 , [ 4 , 3 , 2 , 1 , 0 ] )\n",
    "    return qc\n",
    "\n"
   ]
  },
  {
   "cell_type": "code",
   "execution_count": 5,
   "id": "cff76908",
   "metadata": {},
   "outputs": [],
   "source": [
    "#De f in imos n u e s t r a f u n c i ó n que hará de am p l i f i c a d o r o d i f u s o r ( Fuen te :q i s k i t . org )\n",
    "\n",
    "def diffuser(nqubits):\n",
    "    qc = QuantumCircuit(nqubits)\n",
    "    for qubit in range(nqubits):\n",
    "        qc.h(qubit)\n",
    "    for qubit in range(nqubits):\n",
    "        qc.x(qubit)\n",
    "    qc.h(nqubits - 1)\n",
    "    qc.mct(list(range(nqubits - 1)), nqubits - 1)\n",
    "    qc.h(nqubits - 1)\n",
    "    for qubit in range(nqubits):\n",
    "        qc.x(qubit)\n",
    "    for qubit in range(nqubits):\n",
    "        qc.h(qubit)\n",
    "    U_s = qc.to_gate()\n",
    "    U_s.name = \"I\"\n",
    "    return U_s"
   ]
  },
  {
   "cell_type": "code",
   "execution_count": 6,
   "id": "df842f61",
   "metadata": {},
   "outputs": [],
   "source": [
    "#Por úl t im o , r e al i z am o s l a s im ul a c i ó n\n",
    "#M a tr i z de c o s t e s i n t r o d u c i d a a mano , o generada por l a f u n c i ó n a l e a t o r i am e n t e\n",
    "costes = [[np.nan, 639.58, 959.34, 697.95, 348.29] , [639.58, np.nan, 343.56, 263.90, 683.92] , [959.34, 343.56, np.nan, 320.31, 917.96] , [697.95, 263.90, 320.31, np.nan, 602.47] , [348.29, 683.92, 917.96, 602.47, np.nan]]\n",
    "costes1 = np.copy(costes)\n"
   ]
  },
  {
   "cell_type": "code",
   "execution_count": 7,
   "id": "dee1d713",
   "metadata": {},
   "outputs": [
    {
     "name": "stdout",
     "output_type": "stream",
     "text": [
      "[[       nan 0.         1.57079633 1.57079633 0.        ]\n",
      " [1.57079633        nan 0.         0.         1.57079633]\n",
      " [1.57079633 0.                nan 0.         1.57079633]\n",
      " [1.57079633 0.         0.                nan 1.57079633]\n",
      " [0.         1.57079633 1.57079633 0.                nan]]\n"
     ]
    }
   ],
   "source": [
    "#La pasamos por l a f u n c i ó n e s c a l a rM a t r i z\n",
    "m = escalarMatriz( costes1 )\n",
    "print(m)"
   ]
  },
  {
   "cell_type": "code",
   "execution_count": 8,
   "id": "e20293be",
   "metadata": {},
   "outputs": [
    {
     "data": {
      "text/plain": [
       "<qiskit.circuit.instructionset.InstructionSet at 0x1cba86485e0>"
      ]
     },
     "execution_count": 8,
     "metadata": {},
     "output_type": "execute_result"
    }
   ],
   "source": [
    "tsp5 = QuantumCircuit( 5 )\n",
    "tsp5.h( [ 0 , 1 , 2 , 3 , 4 ] )\n"
   ]
  },
  {
   "cell_type": "code",
   "execution_count": 9,
   "id": "7d71156b",
   "metadata": {},
   "outputs": [],
   "source": [
    "phase = phasing().to_gate()\n",
    "phase.name=\"C\""
   ]
  },
  {
   "cell_type": "code",
   "execution_count": 10,
   "id": "5ee70aaf",
   "metadata": {
    "scrolled": true
   },
   "outputs": [
    {
     "name": "stderr",
     "output_type": "stream",
     "text": [
      "C:\\Users\\Andre\\AppData\\Local\\Temp\\ipykernel_1732\\2535056637.py:19: DeprecationWarning: Using a qobj for run() is deprecated as of qiskit-aer 0.9.0 and will be removed no sooner than 3 months from that release date. Transpiled circuits should now be passed directly using `backend.run(circuits, **run_options).\n",
      "  results = aer_sim.run( qobj ).result()\n"
     ]
    },
    {
     "data": {
      "image/png": "[encoded data removed]",
      "text/plain": [
       "<Figure size 700x500 with 1 Axes>"
      ]
     },
     "execution_count": 10,
     "metadata": {},
     "output_type": "execute_result"
    }
   ],
   "source": [
    "from qiskit import QuantumCircuit, execute, Aer\n",
    "from qiskit.primitives import Sampler\n",
    "\n",
    "from qiskit.visualization import plot_histogram\n",
    "import matplotlib.pyplot as plt\n",
    "\n",
    "for i in range ( 4 ) :\n",
    "    tsp5.append ( phase , [ 0 , 1 , 2 , 3 , 4 ] )\n",
    "    tsp5.append ( diffuser( 5 ) , [ 0 , 1 , 2 , 3 , 4 ] )\n",
    "    #grover(Uf_tsp)\n",
    "    \n",
    "\n",
    "\n",
    "tsp5.measure_all()\n",
    "\n",
    "aer_sim = Aer.get_backend( 'aer_simulator')\n",
    "transpiled_grover_circuit = transpile( tsp5 , aer_sim )\n",
    "qobj = assemble(transpiled_grover_circuit)\n",
    "results = aer_sim.run( qobj ).result()\n",
    "counts = results.get_counts ( )\n",
    "plot_histogram( counts , title=' First iteration' )\n",
    "\n",
    "\n",
    "\n"
   ]
  },
  {
   "cell_type": "code",
   "execution_count": 14,
   "id": "85c2c2ad-876d-488d-ad4a-148f66b245be",
   "metadata": {},
   "outputs": [
    {
     "name": "stdout",
     "output_type": "stream",
     "text": [
      "Estado con el mayor número de counts: 10001 con 98 counts\n"
     ]
    }
   ],
   "source": [
    "max_state = max(counts, key=counts.get)\n",
    "print(f\"Estado con el mayor número de counts: {max_state} con {counts[max_state]} counts\")"
   ]
  },
  {
   "cell_type": "code",
   "execution_count": 12,
   "id": "39d1002e-4524-49e1-995f-4ee44059efa9",
   "metadata": {},
   "outputs": [
    {
     "name": "stdout",
     "output_type": "stream",
     "text": [
      "El elemento 00000 es observado con probabilidad 0.0060042459517717\n",
      "El elemento 00001 es observado con probabilidad 0.0453461427241559\n",
      "El elemento 00010 es observado con probabilidad 0.0453461427241557\n",
      "El elemento 00011 es observado con probabilidad 0.0060042459517716\n",
      "El elemento 00100 es observado con probabilidad 0.0368605572730298\n",
      "El elemento 00101 es observado con probabilidad 0.0314949769526715\n",
      "El elemento 00110 es observado con probabilidad 0.0037034470587968\n",
      "El elemento 00111 es observado con probabilidad 0.0037034470587968\n",
      "El elemento 01000 es observado con probabilidad 0.0368605572730298\n",
      "El elemento 01001 es observado con probabilidad 0.0314949769526716\n",
      "El elemento 01010 es observado con probabilidad 0.0136281270533798\n",
      "El elemento 01011 es observado con probabilidad 0.0529700238257632\n",
      "El elemento 01100 es observado con probabilidad 0.0314949769526716\n",
      "El elemento 01101 es observado con probabilidad 0.0368605572730296\n",
      "El elemento 01110 es observado con probabilidad 0.0037034470587968\n",
      "El elemento 01111 es observado con probabilidad 0.0037034470587968\n",
      "El elemento 10000 es observado con probabilidad 0.0888956803828462\n",
      "El elemento 10001 es observado con probabilidad 0.088895680382846\n",
      "El elemento 10010 es observado con probabilidad 0.0314949769526715\n",
      "El elemento 10011 es observado con probabilidad 0.0368605572730296\n",
      "El elemento 10100 es observado con probabilidad 0.0368605572730297\n",
      "El elemento 10101 es observado con probabilidad 0.0314949769526714\n",
      "El elemento 10110 es observado con probabilidad 0.0037034470587968\n",
      "El elemento 10111 es observado con probabilidad 0.0037034470587968\n",
      "El elemento 11000 es observado con probabilidad 0.0238424558192487\n",
      "El elemento 11001 es observado con probabilidad 0.0238424558192488\n",
      "El elemento 11010 es observado con probabilidad 0.0238424558192487\n",
      "El elemento 11011 es observado con probabilidad 0.0238424558192488\n",
      "El elemento 11100 es observado con probabilidad 0.0930673200637088\n",
      "El elemento 11101 es observado con probabilidad 0.0930673200637088\n",
      "El elemento 11110 es observado con probabilidad 0.0037034470587968\n",
      "El elemento 11111 es observado con probabilidad 0.0037034470587968\n"
     ]
    },
    {
     "data": {
      "image/png": "[encoded data removed]",
      "text/plain": [
       "<Figure size 1416.5x535.111 with 1 Axes>"
      ]
     },
     "metadata": {},
     "output_type": "display_data"
    }
   ],
   "source": [
    "# Ejecutar el circuito\n",
    "sampler = Sampler()\n",
    "job = sampler.run(tsp5)\n",
    "\n",
    "probs = job.result().quasi_dists[0].binary_probabilities()\n",
    "\n",
    "# Imprimir el resultado\n",
    "for outcome in probs:\n",
    "    print(\"El elemento\", outcome, \"es observado con probabilidad\", probs[outcome])\n",
    "\n",
    "display(tsp5.draw(output='mpl'))"
   ]
  },
  {
   "cell_type": "markdown",
   "id": "13bf1bb2-ce38-472b-8c07-f2d737119ed7",
   "metadata": {},
   "source": [
    "### 4.5 Solución clásica vs cuántica"
   ]
  },
  {
   "cell_type": "markdown",
   "id": "2887b08b-52c6-460b-896d-1d44743dc7f8",
   "metadata": {},
   "source": [
    "En esta sección discutiremos cómo un algoritmo clásico se aborda para resolver el problema del TSP y luego lo contrastaremos con el enfoque cuántico que ofrece el algoritmo de Grover.\n",
    "\n",
    "Lo slagoritmo cuánticos suelen ser más eficientes que la fuerza bruta, especialmente para instancias grandes del problema, aunque generalmente no garantizan encontrar la solución óptima.\n",
    "\n",
    "Si consideramos el algoritmo de Grover en un contexto cuántico, podríamos utilizarlo para buscar eficientemente la mejor solución dentro de un conjunto de posibles rutas. El algoritmo de Grover proporciona una mejora cuadrática en la búsqueda no estructurada, lo que podría reducir significativamente el número de evaluaciones necesarias para encontrar la ruta óptima.\n",
    "\n",
    "El algoritmo clásico para resolverlo, generalmente utiliza técnicas de fuerza bruta o heurísticas, enfrentando desafíos de eficiencia a medida que el tamaño del problema crece. En contraste, el enfoque cuántico basado en el algoritmo de Grover promete una aceleración significativa, aunque su implementación práctica requiere hardware cuántico avanzado que aún está en desarrollo. Mientras tanto, los algoritmos clásicos continúan siendo la herramienta principal para abordar el TSP en aplicaciones del mundo real."
   ]
  },
  {
   "cell_type": "markdown",
   "id": "95fd539d-6c29-46be-ba3a-79cc60e73096",
   "metadata": {},
   "source": [
    "# 5. Conlusiones"
   ]
  },
  {
   "cell_type": "markdown",
   "id": "4a62a03c-8c73-47b8-8a9d-e154494ffecc",
   "metadata": {},
   "source": [
    "El algoritmo de Grover representa un hito significativo en el campo de la computación cuántica, destacándose por su capacidad para acelerar drásticamente la búsqueda en bases de datos no estructuradas. Propuesto por Lov Grover en 1996, este algoritmo ofrece una mejora cuadrática en eficiencia en comparación con los métodos clásicos de búsqueda lineal.\n",
    "\n",
    "A pesar de su potencial teórico, la implementación práctica del algoritmo de Grover enfrenta desafíos significativos debido a la necesidad de un hardware cuántico estable y escalable. Actualmente, la tecnología cuántica está en desarrollo, y la creación de qubits confiables y la corrección de errores cuánticos son áreas activas de investigación. Sin embargo, los avances continuos en estos campos sugieren que el algoritmo de Grover y otros algoritmos cuánticos podrían volverse prácticos en un futuro no tan lejano.\n",
    "\n",
    "A medida que la computación cuántica avanza, se espera que el algoritmo de Grover desempeñe un papel crucial en la resolución de problemas complejos que son intratables para las computadoras clásicas. Su capacidad para reducir drásticamente el tiempo de búsqueda puede transformar numerosos sectores, mejorando la eficiencia y posibilitando nuevos descubrimientos.\n",
    "\n",
    "Como algo crucial, el algoritmo de Grover no solo es una demostración impresionante del poder de la computación cuántica, sino que también establece un camino hacia la resolución más eficiente de problemas en un mundo que cada vez depende más de grandes volúmenes de datos y la necesidad de procesarlos rápidamente. A medida que la tecnología cuántica madura, las aplicaciones prácticas de Grover y otros algoritmos cuánticos prometen revolucionar la informática y más allá."
   ]
  },
  {
   "cell_type": "markdown",
   "id": "395c5acd-45e3-4807-8dee-96d0e18949cd",
   "metadata": {},
   "source": [
    "# 6. Información del sistema de ejecución\n"
   ]
  },
  {
   "cell_type": "code",
   "execution_count": 5,
   "id": "af2e32bb-f357-46f0-b8f7-5d1fa13e5c4f",
   "metadata": {},
   "outputs": [
    {
     "data": {
      "text/html": [
       "<h3>Version Information</h3><table><tr><th>Qiskit Software</th><th>Version</th></tr><tr><td><code>qiskit-terra</code></td><td>0.24.2</td></tr><tr><td><code>qiskit-aer</code></td><td>0.12.2</td></tr><tr><td><code>qiskit-ibmq-provider</code></td><td>0.20.2</td></tr><tr><td><code>qiskit</code></td><td>0.43.3</td></tr><tr><th>System information</th></tr><tr><td>Python version</td><td>3.9.19</td></tr><tr><td>Python compiler</td><td>MSC v.1916 64 bit (AMD64)</td></tr><tr><td>Python build</td><td>main, Mar 21 2024 17:21:27</td></tr><tr><td>OS</td><td>Windows</td></tr><tr><td>CPUs</td><td>4</td></tr><tr><td>Memory (Gb)</td><td>7.8372039794921875</td></tr><tr><td colspan='2'>Tue Jun 04 03:31:46 2024 Hora estándar central (México)</td></tr></table>"
      ],
      "text/plain": [
       "<IPython.core.display.HTML object>"
      ]
     },
     "metadata": {},
     "output_type": "display_data"
    }
   ],
   "source": [
    "import qiskit.tools.jupyter\n",
    "\n",
    "%qiskit_version_table"
   ]
  },
  {
   "cell_type": "markdown",
   "id": "bba6f158-c7c6-4080-984b-f09450d88b71",
   "metadata": {},
   "source": [
    "# 7. Referencias "
   ]
  },
  {
   "cell_type": "code",
   "execution_count": null,
   "id": "78f0bbd6-70fb-4143-bbdf-2fad26483c76",
   "metadata": {},
   "outputs": [],
   "source": []
  }
 ],
 "metadata": {
  "kernelspec": {
   "display_name": "Python 3 (ipykernel)",
   "language": "python",
   "name": "python3"
  },
  "language_info": {
   "codemirror_mode": {
    "name": "ipython",
    "version": 3
   },
   "file_extension": ".py",
   "mimetype": "text/x-python",
   "name": "python",
   "nbconvert_exporter": "python",
   "pygments_lexer": "ipython3",
   "version": "3.9.19"
  }
 },
 "nbformat": 4,
 "nbformat_minor": 5
}
