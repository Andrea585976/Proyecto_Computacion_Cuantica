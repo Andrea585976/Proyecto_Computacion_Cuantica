{
 "cells": [
  {
   "cell_type": "markdown",
   "id": "a43dc1c5-2793-4c83-8d5b-6055bb1d049b",
   "metadata": {},
   "source": [
    "<table>\n",
    "    <tr style=\"background-color: transparent;  text-align:center;\">\n",
    "        <td><font size=\"7\" color=\"FF3434\">Computación cuántica</font></td>\n",
    "    </tr>\n",
    "    <tr style=\"background-color: transparent; text-align:center;\">\n",
    "        <td><font size=\"6\" color=\"black\">Proyecto: Optimización de rutas para\n",
    "una empresa de entregas </font></td>\n",
    "    </tr>\n",
    "    <tr style=\"background-color: transparent; text-align:center;\">\n",
    "        <td><font size=\"5\" color=\"black\">Facultad de Ingeniería, UNAM</font></td>\n",
    "    </tr>\n",
    "    <tr style=\"background-color: transparent; text-align:center;\">\n",
    "        <td><font size=\"4\" color=\"black\">Semestre 2024-2</font></td>\n",
    "    </tr>\n",
    "    <tr style=\"background-color: transparent; text-align:center;\">\n",
    "        <td><font size=\"3\" color=\"black\">Integrantes:</font></td>\n",
    "    </tr>\n",
    "    <tr style=\"background-color: transparent; text-align:center;\">\n",
    "        <td><font size=\"3\" color=\"black\">Andrés Urbano Andrea</font></td>\n",
    "    </tr>\n",
    "    <tr style=\"background-color: transparent; text-align:center;\">\n",
    "        <td><font size=\"3\" color=\"black\">Corona Nava Pedro Jair</font></td>\n",
    "    </tr>\n",
    "    <tr style=\"background-color: transparent; text-align:center;\">\n",
    "        <td><font size=\"3\" color=\"black\">Álvarez Sánchez Casandra Itzel</font></td>\n",
    "    </tr>\n",
    "   \n",
    "</table>"
   ]
  },
  {
   "cell_type": "markdown",
   "id": "a12d073a-fd9e-4d41-bd7f-edcee6ee49b6",
   "metadata": {},
   "source": [
    "## Contenido\n",
    "\n",
    "1. [Introducción](#1)\n",
    "2. [Marco teórico](#2)\n",
    "   1. [Problema del vendedor ambulante](#2.1)\n",
    "   2. [Algoritmo de Grover](#2.2)\n",
    "3. [Detalle del problema](#3)\n",
    "4. [Metodología](#4)\n",
    "   1. [Enfoque](#4.1)\n",
    "   2. [Definición del grafo](#4.2)\n",
    "   3. [Solución clásica](#4.3)\n",
    "   4. [Solución cuántica](#.4)\n",
    "   5. [Solución clásica vs cuántica](#4.5)\n",
    "5. [Información del sistema de ejecución](#5)\n",
    "6. [Conclusiones](#6)\n",
    "7. [Referencias](#7)"
   ]
  },
  {
   "cell_type": "markdown",
   "id": "faf52ef4-d405-443b-912a-33996263d6a5",
   "metadata": {},
   "source": [
    "# 1. Introducción"
   ]
  },
  {
   "cell_type": "markdown",
   "id": "1c5a19e3-519f-4bee-a369-52d52b04a292",
   "metadata": {},
   "source": [
    "El algoritmo de Grover, introducido por Lov Grover en 1996, constituye un desarrollo crucial en el ámbito de la computación cuántica. Este algoritmo es destacado por proporcionar una mejora considerable en la búsqueda, logrando una aceleración cuadrática en comparación con los métodos clásicos.\n",
    "\n",
    "Para comprender el algoritmo de Grover, es fundamental tener una base en computación cuántica. A diferencia de la computación clásica, que utiliza bits como unidades básicas de información (0 o 1), la computación cuántica se basa en qubits. Los qubits pueden existir en una superposición de estados, permitiendo realizar cálculos más complejos y paralelos de manera eficiente."
   ]
  },
  {
   "cell_type": "markdown",
   "id": "40ba6e06-c5c4-46b2-b1a7-3b3943b88346",
   "metadata": {},
   "source": [
    "# 2. Marco teórico"
   ]
  },
  {
   "cell_type": "markdown",
   "id": "0317d435-27cb-448f-b8aa-78dfc149fbc2",
   "metadata": {},
   "source": [
    "## 2.1 Problema del vendedor ambulante"
   ]
  },
  {
   "cell_type": "markdown",
   "id": "dc0af803-9696-4694-8a8b-dacaea1b29e5",
   "metadata": {},
   "source": [
    "### 2.1.1 Descripción del problema"
   ]
  },
  {
   "cell_type": "markdown",
   "id": "cfbd2485-9a07-4ae7-930b-23912c22488a",
   "metadata": {},
   "source": [
    "El problema del vendedor ambulante o también llamado problema del agente viajero o Traveling Salesman Problem (TSP) consiste en, dada una distribución de N ciudades, encontrar el camino más corto con el cual se visitan todas las ciudades, con las restricciones de solo poder pasar una vez por cada ciudad y de empezar y acabar el tour en la misma ciudad.\n",
    "\n",
    "Este problema pertenece al tipo de problemas NP-hard, por lo que actualmente no es posible encontrar la solución exacta en un tiempo polinómico. "
   ]
  },
  {
   "cell_type": "markdown",
   "id": "4a9daaa1-a3ab-4c7d-830c-a9a6fbbcbbe9",
   "metadata": {},
   "source": [
    "**El problema del ciclo Hamiltoniano**  \n",
    "El ciclo que visita cada vértice una vez en un grafo y regresa a el vértice inicial es conocido como ciclo Hamiltoniano. El problmea del ciclo Hamiltoniano consiste en, dado un grafo, determina si contiene un ciclo Hamiltoniano o no. \n",
    "\n",
    "El problema de ciclo Hamiltoniano es NP-Hard y puede ser transformado a el Problema del Vendedor Viajero, ya que son muy similares. El TSP puede solucionarse encontrando el ciclo Hamiltoniano. \n"
   ]
  },
  {
   "cell_type": "markdown",
   "id": "1d611ba1-a4d6-4cc8-8788-4144c75ebc52",
   "metadata": {},
   "source": [
    "### 2.1.2 Complejidad del TSP"
   ]
  },
  {
   "cell_type": "markdown",
   "id": "3ec748ba-9d7c-4a4f-bcdd-035639ee217d",
   "metadata": {},
   "source": [
    "Multiples técnicas son usadas para resolver este problema:\n",
    "\n",
    "1. **Método de fuerza bruta**: Encuentra todas las combinaciones posibles de todos los vértices.\n",
    "$$\n",
    "O(n\\ !)\\ \\text{donde n = Número de vértices/nodos del grafo} \n",
    "$$\n",
    "\n",
    "2. **Programación dinámica**: Divide el problema en problemas más pequeños, calcula esos problemas más pequeños y, cuando es necesario, utiliza el resultado de esos problemas pequeños, en lugar de computar el mismo fragmento una y otra vez.\n",
    "$$\n",
    "O(n^22^n)\\ \\text{donde n = Número de vértices/nodos del grafo}\n",
    "$$\n",
    "\n",
    "3. **Branch and Bound**: Branch and Bound se refiere a todos los métodos de búsqueda del espacio de estados en los que generamos los hijos de todos los nodos expandidos, antes de convertir cualquier nodo activo en uno expandido. En este método, encontramos el nodo más prometedor y lo ampliamos. El término \"nodo prometedor\" significa \"elegir un nodo que pueda expandirse y brindarnos una solución óptima\". Comenzamos desde la raíz y ampliamos el árbol hasta acercarnos a una solución óptima (costo mínimo en caso de este problema).\n",
    "$$\n",
    "O(n^22^n)\\ \\text{donde n = Número de vértices/nodos del grafo}\n",
    "$$\n",
    "\n",
    "5. **Enfoque heurístico**: Los enfoques heurísticos se basan en proporcionar un conjunto de reglas para la selección óptima de la próxima ciudad a viajar. Pero esto no proporciona una solución óptima en todos los casos, ya que las heurísticas dan como resultado aproximaciones."
   ]
  },
  {
   "cell_type": "markdown",
   "id": "a6ac5bf5-e945-441f-8372-68adbe6d3a5f",
   "metadata": {},
   "source": [
    "## 2.2 Algoritmo de Grover"
   ]
  },
  {
   "cell_type": "markdown",
   "id": "8bcf49e7-9ff6-4bd6-ac38-b74fe92540d7",
   "metadata": {},
   "source": [
    "El algoritmo de Grover es un algoritmo de búsqueda en una secuencia de datos no ordenada con $N$ elementos y en un tiempo $O\\sqrt{N}$.\n",
    "\n",
    "El algoritmo de Grover se aplica a problemas de búsqueda, sino que también puede adaptarse para resolver diversos problemas donde la búsqueda no estructurada es esencial, como la factorización de números grandes y la optimización combinatoria. Sin embargo, su implementación práctica está limitada por la necesidad de un hardware cuántico robusto y estable, actualmente en desarrollo."
   ]
  },
  {
   "cell_type": "markdown",
   "id": "3ac6346d-632e-4cc6-9ae5-dd595fd09d98",
   "metadata": {},
   "source": [
    "### 2.2.1 Óraculo"
   ]
  },
  {
   "cell_type": "markdown",
   "id": "7e618d8d-25b4-4d34-a137-0111c06f2df8",
   "metadata": {},
   "source": [
    "El oráculo del algoritmo de Grover que resulve el problema de búsqueda local corresponde a un bloque que asigna una fase negativa al estado solución, es decir, dejando los demás estados tal y como estaban. Para cualquier estado $\\ket{x}$ de la base computacional, tomando como solución un estado arbitrario $\\ket{w}$, el oráculo vendría dado por\n",
    "\\begin{align*}\n",
    "f(x)&=\\ket{x} &\\mbox{ si $x\\neq w$ }\\\\\n",
    "f(x)&=-\\ket{x} &\\mbox{ si $x=w$}\n",
    "\\end{align*}\n",
    "\n",
    "También se podría expresar de la siguiente manera, siendo $f(x)$ una función que únicamente vale 1 cuando $x$ es igual al estado solución $ω$ y 0 en los demás casos.\n",
    "\n",
    "$$ U_w(\\ket{x})=(-1)^{f(x)} \\ket{x} $$\n",
    "\n",
    "En resumen, el oráculo se corresponde con una matriz diagonal en la cual la entrada correspondiente al estado $ω$ tendrá una fase negativa. Dependiendo del tipo de problema, la implementación de este bloque puede tener una mayor complejidad, llegando a necesitar qubits extra, también llamados qubits ancilla."
   ]
  },
  {
   "cell_type": "markdown",
   "id": "da7990b6-4be3-47ee-a1d3-5c250c8d8940",
   "metadata": {},
   "source": [
    "### 2.2.2 Amplificador"
   ]
  },
  {
   "cell_type": "markdown",
   "id": "fa6e630b-7e27-4792-83bf-7c889285f722",
   "metadata": {},
   "source": [
    "Otra parte del algoritmo de Grover es el amplicador, difusor, o inversión sobre la media. Viene dado por la expresión\n",
    "\n",
    "\\begin{align*}\n",
    "U_s=H^{\\otimes n} (2\\ket{\\mathbf{0}}\\bra{\\mathbf{0}}-I)H^{\\otimes n}\n",
    "\\end{align*} \n",
    "\n",
    "la cual lo podemos simplificar como\n",
    "\n",
    "\\begin{align*}\n",
    "U_s=2\\ket{s}\\bra{s}-I\n",
    "\\end{align*}\n"
   ]
  },
  {
   "cell_type": "markdown",
   "id": "e85b1a83-5380-4f26-88b3-113a7996f3dc",
   "metadata": {},
   "source": [
    "## 3. Detalle del problema"
   ]
  },
  {
   "cell_type": "markdown",
   "id": "ec2d4dc5-de93-41d9-bb0b-56fc8faa3cb3",
   "metadata": {},
   "source": [
    "La empresa de vinos Gallo Winery tiene como objetivo la distribución de vinos tintos a diversas cadenas de restaurantes en diversos países de Europa. Dado el valor de cada entrega, se evaluaron minuciosamente los costos, determinando las rutas más eficientes para optimizar los tiempos de entrega.\n",
    "Como punto de partida fundamental, se seleccionaron las siguientes ciudades estratégicas: Milán,\n",
    "París, Londres, Bruselas y Múnich. \n",
    "\n",
    "En este proceso logístico, Milán se establece como el punto de origen, con destinos en cuatro\n",
    "países europeos. La selección de estos países se basa no solo en la idoneidad de la mercancía, sino\n",
    "también en el análisis exhaustivo de los traslados y su impacto en la operatividad general.\n",
    "En el caso específico de Londres, se ha decidido prescindir del transporte terrestre. Tras un análisis\n",
    "detallado de costos y rutas óptimas, se concluye que, para maximizar la eficiencia de la entrega, el\n",
    "transporte aéreo resulta más conveniente. Sin embargo, si la prioridad es reducir costos, el\n",
    "transporte marítimo se vuelve una alternativa viable. Esta decisión se toma considerando\n",
    "especialmente la robustez, resistencia y fiabilidad de los buques, que los hacen superiores en\n",
    "entornos complejos e inestables.\n",
    "\n",
    "El transporte marítimo ofrece además una mayor flexibilidad para movilizar mercancías y manejar un\n",
    "volumen considerable de cargas, teniendo en cuenta sus dimensiones, peso y condiciones\n",
    "específicas. Esta capacidad de adaptación a diversas variables hace del transporte marítimo la\n",
    "opción más adecuada para nuestras necesidades logísticas."
   ]
  },
  {
   "cell_type": "markdown",
   "id": "9a9ba5d9-695f-48aa-8b9a-cf08a47a2fb7",
   "metadata": {},
   "source": [
    "## 4. Metodología"
   ]
  },
  {
   "cell_type": "markdown",
   "id": "af7756e3-10cc-42a9-bc4a-a48287b314c0",
   "metadata": {},
   "source": [
    "### 4.1 Enfoque"
   ]
  },
  {
   "cell_type": "markdown",
   "id": "125495a2-bfeb-4230-9664-db3541b61f95",
   "metadata": {},
   "source": [
    "Consideraremos todo el problema en términos de grafos. Las ciudades se representan como vértices y el costo/camino como aristas.\n",
    "\n",
    "* Cada ciudad está conectada con otras ciudades con un costo específico asociado a cada conexión."
   ]
  },
  {
   "cell_type": "markdown",
   "id": "cab0b955-331e-43cf-8f25-0168e76d8e1c",
   "metadata": {},
   "source": [
    "### 4.2 Definición del grafo"
   ]
  },
  {
   "cell_type": "markdown",
   "id": "5b382737-b7b4-4985-a199-81df19ef6983",
   "metadata": {},
   "source": [
    "El grafo de las ciudades que utilizaremos es el siguiente:\n",
    "\n",
    "<img src=\"https://raw.githubusercontent.com/Andrea585976/Proyecto_Computacion_Cuantica/main/ciudades.png\" width=\"400\" height=\"300\">\n",
    "\n",
    "En donde hemos marcado la ruta óptima. "
   ]
  },
  {
   "cell_type": "code",
   "execution_count": 1,
   "id": "988a7588-e938-4e33-839e-af1283060d6a",
   "metadata": {},
   "outputs": [],
   "source": [
    "import matplotlib.colors as mcolors\n",
    "import matplotlib.pyplot as plt\n",
    "import networkx as nx"
   ]
  },
  {
   "cell_type": "code",
   "execution_count": 2,
   "id": "8341696a-01a9-4d04-a2f7-759bc6d840e2",
   "metadata": {},
   "outputs": [],
   "source": [
    "def graph_viz(G):\n",
    "    \"\"\"Visualizar un grafo NetworkX\n",
    "\n",
    "    Parámetros\n",
    "    ----------\n",
    "    G : networkx.Graph\n",
    "        El grafo de NetworkX que se visualizará.\n",
    "\n",
    "    nx.draw_kamada_kawai(\n",
    "        G,\n",
    "        with_labels=True,\n",
    "        node_size=600,\n",
    "        width=2,\n",
    "        font_size=10,\n",
    "        font_weight=\"bold\",\n",
    "        font_color=\"whitesmoke\",\n",
    "    )\n",
    "    \"\"\"\n",
    "    options = {\n",
    "        \"node_size\": 600,\n",
    "        \"width\": 3,\n",
    "        \"arrowstyle\": \"--|>\",\n",
    "        \"arrowsize\": 40,\n",
    "        \"font_size\": 20,\n",
    "        \"font_weight\": \"bold\",\n",
    "        \"font_color\": \"whitesmoke\",\n",
    "    }\n",
    "    pos = nx.kamada_kawai_layout(G)  # pos = nx.nx_agraph.graphviz_layout(G)\n",
    "    nx.draw_networkx(G, pos, **options)\n",
    "    labels = nx.get_edge_attributes(G, \"weight\")\n",
    "    nx.draw_networkx_edge_labels(G, pos, edge_labels=labels)\n",
    "    plt.axis(\"off\")\n",
    "    plt.show()\n",
    "\n",
    "\n",
    "def maxcut_viz(G, cut_nodes):\n",
    "    \"\"\"Visualizar el resultado del problema MaxCut.\n",
    "\n",
    "    Parámetros\n",
    "    ----------\n",
    "    G : networkx.Graph\n",
    "        Grafo NetworkX del problema.\n",
    "    cut_nodes : dict\n",
    "\n",
    "    \"\"\"\n",
    "    if isinstance(cut_nodes, dict):\n",
    "        cut = set()\n",
    "        for node, value in cut_nodes.items():\n",
    "            if value == 1:\n",
    "                cut.add(node)\n",
    "    else:\n",
    "        cut = cut_nodes\n",
    "\n",
    "    S0 = [node for node in G.nodes if node in cut]\n",
    "    S1 = [node for node in G.nodes if node not in cut]\n",
    "\n",
    "    cut_edges = [\n",
    "        (u, v)\n",
    "        for u, v in G.edges\n",
    "        if (u in S0 and v not in S0) or (u in S1 and v not in S1)\n",
    "    ]\n",
    "    uncut_edges = [\n",
    "        (u, v) for u, v in G.edges if (u in S0 and v in S0) or (u in S1 and v in S1)\n",
    "    ]\n",
    "\n",
    "    pos = nx.kamada_kawai_layout(G)\n",
    "    nx.draw_networkx_nodes(G, pos, nodelist=S0, node_color=\"tab:red\", node_size=700)\n",
    "    nx.draw_networkx_nodes(G, pos, nodelist=S1, node_color=\"tab:green\", node_size=700)\n",
    "    nx.draw_networkx_edges(\n",
    "        G,\n",
    "        pos,\n",
    "        edgelist=cut_edges,\n",
    "        style=\"dashed\",\n",
    "        edge_color=\"tab:blue\",\n",
    "        alpha=0.7,\n",
    "        width=3,\n",
    "    )\n",
    "    nx.draw_networkx_edges(G, pos, edgelist=uncut_edges, style=\"solid\", width=3)\n",
    "    nx.draw_networkx_labels(\n",
    "        G, pos, font_size=14, font_weight=\"bold\", font_color=\"whitesmoke\"\n",
    "    )\n",
    "\n",
    "    plt.tight_layout()\n",
    "    plt.axis(\"off\")\n",
    "    plt.show()\n",
    "\n",
    "\n",
    "def graph_coloring_viz(G, coloring):\n",
    "    \"\"\"Visualizar la salida del problema del graph coloring.\n",
    "\n",
    "    Parámetros\n",
    "    ----------\n",
    "    G : networkx.Graph\n",
    "        Grafo NetworkX del problema.\n",
    "\n",
    "    coloring : dict\n",
    "        Los colores asignado a los nodos.\n",
    "    \"\"\"\n",
    "\n",
    "    color_list = {\n",
    "        \"B\": \"tab:blue\",\n",
    "        \"O\": \"tab:orange\",\n",
    "        \"G\": \"tab:green\",\n",
    "        \"R\": \"tab:red\",\n",
    "        \"P\": \"tab:pink\",\n",
    "        \"Y\": \"tab:olive\",\n",
    "    }\n",
    "\n",
    "    colors = list(mcolors.TABLEAU_COLORS)\n",
    "\n",
    "    pos = nx.kamada_kawai_layout(G)\n",
    "\n",
    "    for node, color in coloring.items():\n",
    "        if isinstance(color, int):\n",
    "            nx.draw_networkx_nodes(\n",
    "                G, pos, nodelist=[node], node_color=[colors[color]], node_size=700\n",
    "            )\n",
    "        elif isinstance(color, str):\n",
    "            nx.draw_networkx_nodes(\n",
    "                G, pos, nodelist=[node], node_color=[color_list[color]], node_size=700\n",
    "            )\n",
    "        elif isinstance(color, list):\n",
    "            nx.draw_networkx_nodes(\n",
    "                G, pos, nodelist=[node], node_color=\"tab:black\", node_size=700\n",
    "            )\n",
    "\n",
    "    nx.draw_networkx_edges(G, pos, edgelist=G.edges, style=\"solid\", width=3)\n",
    "    nx.draw_networkx_labels(\n",
    "        G, pos, font_size=14, font_weight=\"bold\", font_color=\"whitesmoke\"\n",
    "    )\n",
    "    plt.tight_layout()\n",
    "    plt.axis(\"off\")\n",
    "    plt.show()\n",
    "\n",
    "\n",
    "def tsp_viz(G, input_path):\n",
    "    \"\"\"Visualizar la salida del travelling salesman problem.\n",
    "\n",
    "    Parámetros\n",
    "    ----------\n",
    "    G : networkx.Graph\n",
    "        Grafo NetworkX del problema.\n",
    "\n",
    "    input_path : list/dict\n",
    "        El orden en que se visitan las ciudades.\n",
    "    \"\"\"\n",
    "    if isinstance(input_path, dict):\n",
    "        input_path = [city for (pos, [city]) in sorted(input_path.items())]\n",
    "\n",
    "    path = []\n",
    "    for i in range(len(input_path)):\n",
    "        if i + 1 == len(input_path):\n",
    "            path.append((input_path[i], input_path[0]))\n",
    "        else:\n",
    "            path.append((input_path[i], input_path[i + 1]))\n",
    "\n",
    "    non_path = [(u, v) for u, v in G.edges if (u, v) not in path and (v, u) not in path]\n",
    "\n",
    "    pos = nx.kamada_kawai_layout(G)\n",
    "    nx.draw_networkx_nodes(\n",
    "        G, pos, nodelist=G.nodes, node_color=\"tab:blue\", node_size=700\n",
    "    )\n",
    "\n",
    "    nx.draw_networkx_edges(\n",
    "        G,\n",
    "        pos,\n",
    "        edgelist=path,\n",
    "        style=\"solid\",\n",
    "        width=3,\n",
    "        arrows=True,\n",
    "        arrowstyle=\"->\",\n",
    "        arrowsize=30,\n",
    "    )\n",
    "    nx.draw_networkx_edges(\n",
    "        G,\n",
    "        pos,\n",
    "        edgelist=non_path,\n",
    "        style=\"dashed\",\n",
    "        edge_color=\"tab:blue\",\n",
    "        alpha=0.7,\n",
    "        width=3,\n",
    "    )\n",
    "\n",
    "    nx.draw_networkx_labels(\n",
    "        G, pos, font_size=14, font_weight=\"bold\", font_color=\"whitesmoke\"\n",
    "    )\n",
    "    labels = nx.get_edge_attributes(G, \"weight\")\n",
    "    nx.draw_networkx_edge_labels(G, pos, edge_labels=labels)\n",
    "    plt.tight_layout()\n",
    "    plt.axis(\"off\")\n",
    "    plt.show()"
   ]
  },
  {
   "cell_type": "code",
   "execution_count": 3,
   "id": "06e65a86-2782-44cc-9708-c9a5c252020b",
   "metadata": {},
   "outputs": [
    {
     "name": "stderr",
     "output_type": "stream",
     "text": [
      "C:\\Users\\Andre\\anaconda3\\envs\\ccuantica\\lib\\site-packages\\networkx\\drawing\\nx_pylab.py:305: UserWarning: \n",
      "\n",
      "The arrowstyle keyword argument is not applicable when drawing edges\n",
      "with LineCollection.\n",
      "\n",
      "To make this warning go away, either specify `arrows=True` to\n",
      "force FancyArrowPatches or use the default value for arrowstyle.\n",
      "Note that using FancyArrowPatches may be slow for large graphs.\n",
      "\n",
      "  draw_networkx_edges(G, pos, arrows=arrows, **edge_kwds)\n"
     ]
    },
    {
     "data": {
      "image/png": "[encoded data removed]",
      "text/plain": [
       "<Figure size 640x480 with 1 Axes>"
      ]
     },
     "metadata": {},
     "output_type": "display_data"
    }
   ],
   "source": [
    "G = nx.Graph()\n",
    "G.add_weighted_edges_from(\n",
    "    [('Mi', 'Pa', 639.58), ('Mi', 'Lo', 959.34), ('Mi', 'Br', 697.95), ('Mi', 'Mu', 348.29), ('Pa', 'Lo', 343.56), ('Pa', 'Br', 263.9), ('Pa', 'Mu', 683.92), ('Lo', 'Br', 320.31), ('Lo', 'Mu', 917.96), ('Br', 'Mu', 602.47)]\n",
    ")\n",
    "graph_viz(G)\n",
    "#path = ['Mi', 'Pa', 'Lo', 'Br', 'Mu']\n",
    "#tsp_viz(G, path)"
   ]
  },
  {
   "cell_type": "markdown",
   "id": "4d3d9821-6430-46d0-9f2b-81f47f223d3d",
   "metadata": {},
   "source": [
    "### 4.3 Solución clásica"
   ]
  },
  {
   "cell_type": "markdown",
   "id": "522bb286-2690-401e-9791-c175048a22fa",
   "metadata": {},
   "source": [
    "**Descripción de la implementación**\n",
    "\n",
    "En primera instancia definimos nuestra matriz de distancias (obtenidas de datos reales proporcionados por Google Maps), esta matriz la asignamos al objeto llamado “distances”. Además definimos un arreglo que representa las ciudades con la siguiente distribución: $0 = Milán$, $1 = Paris$, $2 = Londres$, $3 = Bruselas$ y $4= Múnich$.\n",
    "\n",
    "Una vez que tenemos la distribución de las ciudades procedemos a generar todas las permutaciones de rutas posibles, es decir, todas las combinaciones que se pueden dar con nuestras ciudades.\n",
    "\n",
    "Posteriormente y con el objetivo de brindar una respuesta más intuitiva decidimos agregar un índice a cada combinación resultante, para después mostrar en pantalla el índice, su respectiva permutación y a que binario estaba asociado.\n",
    "\n",
    "Bien, ahora que ya tenemos de forma gráfica a que ruta pertenece cada índice procedimos a definir la función para calcular la distancia de cada una de estas rutas, la cual llamamos `calculate_route_distance`. En ella se recibe como parámetro una ruta, se define una variable en 0 llamada `total_distance` la cual guardará la distancia total de la ruta proporcionada, para esto hacemos uso de un ciclo for el cual nos ayuda a sumar el valor de la distancia (obtenido de la matriz de distancias previamente definida) dependiendo de la ciudad actual y de la ciudad destino, que en código se visualiza como el índice $i$ de la ruta y el índice $i+1$. Al salir del ciclo agregamos una distancia más que es el valor de regresar a la ciudad de origen. Como ya se mencionó esta función nos regresa la distancia total por ruta dada.\n",
    "\n",
    "Definimos dos variables más: `optimal_route` y `optimal_route_index`. A la primera se le asigan el valor resultante de la sentencia `min(routes, key=calculate_route_distance)`, la cual nos indica que se va a buscar el valor mínimo del total de distancias por ruta, ya que tiene como parámetro la lista de todas las rutas posibles y su respectiva distancia.\n",
    "\n",
    "En la segunda variable se almacena el índice que le corresponde a la ruta óptima previamente localizada.\n",
    "\n",
    "Por último, tenemos tres print para mostrar los resultados obtenidos de una manera sencilla y clara. Se muestra la ruta óptima, el índice de dicha ruta y la representación binaria asignada a la ruta.\n"
   ]
  },
  {
   "cell_type": "code",
   "execution_count": 1,
   "id": "9b4989fe-b166-486e-972e-ccc94678ad94",
   "metadata": {},
   "outputs": [
    {
     "name": "stdout",
     "output_type": "stream",
     "text": [
      "Índice 0: Ruta (0, 1, 2, 3, 4) -> Binario: 0000\n",
      "Índice 1: Ruta (0, 1, 2, 4, 3) -> Binario: 0001\n",
      "Índice 2: Ruta (0, 1, 3, 2, 4) -> Binario: 0010\n",
      "Índice 3: Ruta (0, 1, 3, 4, 2) -> Binario: 0011\n",
      "Índice 4: Ruta (0, 1, 4, 2, 3) -> Binario: 0100\n",
      "Índice 5: Ruta (0, 1, 4, 3, 2) -> Binario: 0101\n",
      "Índice 6: Ruta (0, 2, 1, 3, 4) -> Binario: 0110\n",
      "Índice 7: Ruta (0, 2, 1, 4, 3) -> Binario: 0111\n",
      "Índice 8: Ruta (0, 2, 3, 1, 4) -> Binario: 1000\n",
      "Índice 9: Ruta (0, 2, 3, 4, 1) -> Binario: 1001\n",
      "Índice 10: Ruta (0, 2, 4, 1, 3) -> Binario: 1010\n",
      "Índice 11: Ruta (0, 2, 4, 3, 1) -> Binario: 1011\n",
      "Índice 12: Ruta (0, 3, 1, 2, 4) -> Binario: 1100\n",
      "Índice 13: Ruta (0, 3, 1, 4, 2) -> Binario: 1101\n",
      "Índice 14: Ruta (0, 3, 2, 1, 4) -> Binario: 1110\n",
      "Índice 15: Ruta (0, 3, 2, 4, 1) -> Binario: 1111\n",
      "Índice 16: Ruta (0, 3, 4, 1, 2) -> Binario: 10000\n",
      "Índice 17: Ruta (0, 3, 4, 2, 1) -> Binario: 10001\n",
      "Índice 18: Ruta (0, 4, 1, 2, 3) -> Binario: 10010\n",
      "Índice 19: Ruta (0, 4, 1, 3, 2) -> Binario: 10011\n",
      "Índice 20: Ruta (0, 4, 2, 1, 3) -> Binario: 10100\n",
      "Índice 21: Ruta (0, 4, 2, 3, 1) -> Binario: 10101\n",
      "Índice 22: Ruta (0, 4, 3, 1, 2) -> Binario: 10110\n",
      "Índice 23: Ruta (0, 4, 3, 2, 1) -> Binario: 10111\n",
      "Índice 24: Ruta (1, 0, 2, 3, 4) -> Binario: 11000\n",
      "Índice 25: Ruta (1, 0, 2, 4, 3) -> Binario: 11001\n",
      "Índice 26: Ruta (1, 0, 3, 2, 4) -> Binario: 11010\n",
      "Índice 27: Ruta (1, 0, 3, 4, 2) -> Binario: 11011\n",
      "Índice 28: Ruta (1, 0, 4, 2, 3) -> Binario: 11100\n",
      "Índice 29: Ruta (1, 0, 4, 3, 2) -> Binario: 11101\n",
      "Índice 30: Ruta (1, 2, 0, 3, 4) -> Binario: 11110\n",
      "Índice 31: Ruta (1, 2, 0, 4, 3) -> Binario: 11111\n",
      "Índice 32: Ruta (1, 2, 3, 0, 4) -> Binario: 100000\n",
      "Índice 33: Ruta (1, 2, 3, 4, 0) -> Binario: 100001\n",
      "Índice 34: Ruta (1, 2, 4, 0, 3) -> Binario: 100010\n",
      "Índice 35: Ruta (1, 2, 4, 3, 0) -> Binario: 100011\n",
      "Índice 36: Ruta (1, 3, 0, 2, 4) -> Binario: 100100\n",
      "Índice 37: Ruta (1, 3, 0, 4, 2) -> Binario: 100101\n",
      "Índice 38: Ruta (1, 3, 2, 0, 4) -> Binario: 100110\n",
      "Índice 39: Ruta (1, 3, 2, 4, 0) -> Binario: 100111\n",
      "Índice 40: Ruta (1, 3, 4, 0, 2) -> Binario: 101000\n",
      "Índice 41: Ruta (1, 3, 4, 2, 0) -> Binario: 101001\n",
      "Índice 42: Ruta (1, 4, 0, 2, 3) -> Binario: 101010\n",
      "Índice 43: Ruta (1, 4, 0, 3, 2) -> Binario: 101011\n",
      "Índice 44: Ruta (1, 4, 2, 0, 3) -> Binario: 101100\n",
      "Índice 45: Ruta (1, 4, 2, 3, 0) -> Binario: 101101\n",
      "Índice 46: Ruta (1, 4, 3, 0, 2) -> Binario: 101110\n",
      "Índice 47: Ruta (1, 4, 3, 2, 0) -> Binario: 101111\n",
      "Índice 48: Ruta (2, 0, 1, 3, 4) -> Binario: 110000\n",
      "Índice 49: Ruta (2, 0, 1, 4, 3) -> Binario: 110001\n",
      "Índice 50: Ruta (2, 0, 3, 1, 4) -> Binario: 110010\n",
      "Índice 51: Ruta (2, 0, 3, 4, 1) -> Binario: 110011\n",
      "Índice 52: Ruta (2, 0, 4, 1, 3) -> Binario: 110100\n",
      "Índice 53: Ruta (2, 0, 4, 3, 1) -> Binario: 110101\n",
      "Índice 54: Ruta (2, 1, 0, 3, 4) -> Binario: 110110\n",
      "Índice 55: Ruta (2, 1, 0, 4, 3) -> Binario: 110111\n",
      "Índice 56: Ruta (2, 1, 3, 0, 4) -> Binario: 111000\n",
      "Índice 57: Ruta (2, 1, 3, 4, 0) -> Binario: 111001\n",
      "Índice 58: Ruta (2, 1, 4, 0, 3) -> Binario: 111010\n",
      "Índice 59: Ruta (2, 1, 4, 3, 0) -> Binario: 111011\n",
      "Índice 60: Ruta (2, 3, 0, 1, 4) -> Binario: 111100\n",
      "Índice 61: Ruta (2, 3, 0, 4, 1) -> Binario: 111101\n",
      "Índice 62: Ruta (2, 3, 1, 0, 4) -> Binario: 111110\n",
      "Índice 63: Ruta (2, 3, 1, 4, 0) -> Binario: 111111\n",
      "Índice 64: Ruta (2, 3, 4, 0, 1) -> Binario: 1000000\n",
      "Índice 65: Ruta (2, 3, 4, 1, 0) -> Binario: 1000001\n",
      "Índice 66: Ruta (2, 4, 0, 1, 3) -> Binario: 1000010\n",
      "Índice 67: Ruta (2, 4, 0, 3, 1) -> Binario: 1000011\n",
      "Índice 68: Ruta (2, 4, 1, 0, 3) -> Binario: 1000100\n",
      "Índice 69: Ruta (2, 4, 1, 3, 0) -> Binario: 1000101\n",
      "Índice 70: Ruta (2, 4, 3, 0, 1) -> Binario: 1000110\n",
      "Índice 71: Ruta (2, 4, 3, 1, 0) -> Binario: 1000111\n",
      "Índice 72: Ruta (3, 0, 1, 2, 4) -> Binario: 1001000\n",
      "Índice 73: Ruta (3, 0, 1, 4, 2) -> Binario: 1001001\n",
      "Índice 74: Ruta (3, 0, 2, 1, 4) -> Binario: 1001010\n",
      "Índice 75: Ruta (3, 0, 2, 4, 1) -> Binario: 1001011\n",
      "Índice 76: Ruta (3, 0, 4, 1, 2) -> Binario: 1001100\n",
      "Índice 77: Ruta (3, 0, 4, 2, 1) -> Binario: 1001101\n",
      "Índice 78: Ruta (3, 1, 0, 2, 4) -> Binario: 1001110\n",
      "Índice 79: Ruta (3, 1, 0, 4, 2) -> Binario: 1001111\n",
      "Índice 80: Ruta (3, 1, 2, 0, 4) -> Binario: 1010000\n",
      "Índice 81: Ruta (3, 1, 2, 4, 0) -> Binario: 1010001\n",
      "Índice 82: Ruta (3, 1, 4, 0, 2) -> Binario: 1010010\n",
      "Índice 83: Ruta (3, 1, 4, 2, 0) -> Binario: 1010011\n",
      "Índice 84: Ruta (3, 2, 0, 1, 4) -> Binario: 1010100\n",
      "Índice 85: Ruta (3, 2, 0, 4, 1) -> Binario: 1010101\n",
      "Índice 86: Ruta (3, 2, 1, 0, 4) -> Binario: 1010110\n",
      "Índice 87: Ruta (3, 2, 1, 4, 0) -> Binario: 1010111\n",
      "Índice 88: Ruta (3, 2, 4, 0, 1) -> Binario: 1011000\n",
      "Índice 89: Ruta (3, 2, 4, 1, 0) -> Binario: 1011001\n",
      "Índice 90: Ruta (3, 4, 0, 1, 2) -> Binario: 1011010\n",
      "Índice 91: Ruta (3, 4, 0, 2, 1) -> Binario: 1011011\n",
      "Índice 92: Ruta (3, 4, 1, 0, 2) -> Binario: 1011100\n",
      "Índice 93: Ruta (3, 4, 1, 2, 0) -> Binario: 1011101\n",
      "Índice 94: Ruta (3, 4, 2, 0, 1) -> Binario: 1011110\n",
      "Índice 95: Ruta (3, 4, 2, 1, 0) -> Binario: 1011111\n",
      "Índice 96: Ruta (4, 0, 1, 2, 3) -> Binario: 1100000\n",
      "Índice 97: Ruta (4, 0, 1, 3, 2) -> Binario: 1100001\n",
      "Índice 98: Ruta (4, 0, 2, 1, 3) -> Binario: 1100010\n",
      "Índice 99: Ruta (4, 0, 2, 3, 1) -> Binario: 1100011\n",
      "Índice 100: Ruta (4, 0, 3, 1, 2) -> Binario: 1100100\n",
      "Índice 101: Ruta (4, 0, 3, 2, 1) -> Binario: 1100101\n",
      "Índice 102: Ruta (4, 1, 0, 2, 3) -> Binario: 1100110\n",
      "Índice 103: Ruta (4, 1, 0, 3, 2) -> Binario: 1100111\n",
      "Índice 104: Ruta (4, 1, 2, 0, 3) -> Binario: 1101000\n",
      "Índice 105: Ruta (4, 1, 2, 3, 0) -> Binario: 1101001\n",
      "Índice 106: Ruta (4, 1, 3, 0, 2) -> Binario: 1101010\n",
      "Índice 107: Ruta (4, 1, 3, 2, 0) -> Binario: 1101011\n",
      "Índice 108: Ruta (4, 2, 0, 1, 3) -> Binario: 1101100\n",
      "Índice 109: Ruta (4, 2, 0, 3, 1) -> Binario: 1101101\n",
      "Índice 110: Ruta (4, 2, 1, 0, 3) -> Binario: 1101110\n",
      "Índice 111: Ruta (4, 2, 1, 3, 0) -> Binario: 1101111\n",
      "Índice 112: Ruta (4, 2, 3, 0, 1) -> Binario: 1110000\n",
      "Índice 113: Ruta (4, 2, 3, 1, 0) -> Binario: 1110001\n",
      "Índice 114: Ruta (4, 3, 0, 1, 2) -> Binario: 1110010\n",
      "Índice 115: Ruta (4, 3, 0, 2, 1) -> Binario: 1110011\n",
      "Índice 116: Ruta (4, 3, 1, 0, 2) -> Binario: 1110100\n",
      "Índice 117: Ruta (4, 3, 1, 2, 0) -> Binario: 1110101\n",
      "Índice 118: Ruta (4, 3, 2, 0, 1) -> Binario: 1110110\n",
      "Índice 119: Ruta (4, 3, 2, 1, 0) -> Binario: 1110111\n",
      "\n",
      "Ruta óptima: (0, 1, 2, 3, 4)\n",
      "Índice de la ruta óptima: 0\n",
      "Representación binaria de la ruta óptima: 0000\n"
     ]
    }
   ],
   "source": [
    "import itertools\n",
    "import numpy as np\n",
    "\n",
    "# Matriz de distancias\n",
    "distances = np.array([[0, 639.58, 959.34, 697.95, 348.29],\n",
    "                      [639.58, 0, 343.56, 263.90, 683.92],\n",
    "                      [959.34, 343.56, 0, 320.31, 917.96],\n",
    "                      [697.95, 263.90, 320.31, 0, 602.47],\n",
    "                      [348.29, 683.92, 917.96, 602.47, 0]])\n",
    "\n",
    "# Definir ciudades\n",
    "cities = [0, 1, 2 ,3, 4]\n",
    "\n",
    "# Generar todas las permutaciones de rutas posibles\n",
    "routes = list(itertools.permutations(cities))\n",
    "\n",
    "# Mapeo de índice a permutación\n",
    "index_to_route = {i: route for i, route in enumerate(routes)}\n",
    "\n",
    "# Mostrar el mapeo de índices a rutas y su representación binaria\n",
    "for i in range(len(routes)):\n",
    "    print(f\"Índice {i}: Ruta {routes[i]} -> Binario: {format(i, '04b')}\")\n",
    "\n",
    "# Función para calcular la distancia de una ruta\n",
    "def calculate_route_distance(route):\n",
    "    total_distance = 0\n",
    "    for i in range(len(route) - 1):\n",
    "        total_distance += distances[route[i]][route[i + 1]]\n",
    "    total_distance += distances[route[-1]][route[0]]  # Regresar a la ciudad de origen\n",
    "    return total_distance\n",
    "\n",
    "# Encontrar la ruta óptima\n",
    "optimal_route = min(routes, key=calculate_route_distance)\n",
    "optimal_route_index = routes.index(optimal_route)\n",
    "\n",
    "print(\"\\nRuta óptima:\", optimal_route)\n",
    "print(\"Índice de la ruta óptima:\", optimal_route_index)\n",
    "print(\"Representación binaria de la ruta óptima:\", format(optimal_route_index, '04b'))"
   ]
  },
  {
   "cell_type": "markdown",
   "id": "e4073d66-3db8-44f4-9273-d6f063c2821a",
   "metadata": {},
   "source": [
    "### 4.4 Solución cuántica"
   ]
  },
  {
   "cell_type": "markdown",
   "id": "a134dde2-c5b6-4623-98d4-7e5548c155aa",
   "metadata": {},
   "source": [
    "#### 4.4.1 Implementación del Oráculo"
   ]
  },
  {
   "cell_type": "markdown",
   "id": "5a807fc2-f3d3-4bf9-87b7-a8029c02d76f",
   "metadata": {},
   "source": [
    "En primer lugar, podemos dividir el funcionamiento del oráculo en dos partes. La primera es una\n",
    "conversión o escalado de las distancias proporcionadas a fases. La segunda parte y más importante\n",
    "consiste en cómo implementar una función que se encarga de asignar estas fases a cada uno de los\n",
    "estados cuánticos, los cuales equivalen a los caminos."
   ]
  },
  {
   "cell_type": "markdown",
   "id": "c522532b-79a5-4824-b44b-056ac2fe80fd",
   "metadata": {},
   "source": [
    "##### 4.4.1.1 Escalado de distancias"
   ]
  },
  {
   "cell_type": "markdown",
   "id": "9722a8c3-78dc-4a5f-97cf-40d3888f4d21",
   "metadata": {},
   "source": [
    "Esta parte consiste en un escalado de las distancias entre cada par de ciudades. Este escalado consiste en, a partir de una matriz que contiene las distancias entre cada par de ciudades, clasificarlas como fase $0$ o fase $\\pi/2$. Para considerar que valor de distancia se le asigna una fase $0$ o de fase $π/2$ , se realiza siguiente procedimiento.\n",
    "\n",
    "1. Calcular valor medio en cada fila:\n",
    "$$\n",
    "\\beta=\\frac{MAX-MIN}{2}\n",
    "$$\n",
    "\n",
    "2.Establecer rango de distancias asociadas a fase $0$ y fase $π/2$  \n",
    "$$\n",
    "[MIN, ,MIN+\\beta]=0    \n",
    "$$\n",
    "$$\n",
    "(MIN+\\beta, MAX]=\\frac{\\pi}{2}\n",
    "$$\n",
    "\n",
    "Este escalado no se hace una vez para la matriz completa, sino que se hace en\n",
    "cada una de las filas por separado, ya que se ha comprobado que se obtiene un mejor resultado de esta forma. Este proceso se ha implementado mediante la función `escalarMatriz(m)`, a la cual se le pasa como parámetro la matriz de distancias, y devuelve la matriz de fases."
   ]
  },
  {
   "cell_type": "markdown",
   "id": "414d89a5-1016-4039-9439-e5f7a8d3594c",
   "metadata": {},
   "source": [
    "##### 4.4.1.2 Asignación de fases"
   ]
  },
  {
   "cell_type": "markdown",
   "id": "9948c7ae-a67e-42dd-b358-402230ca5994",
   "metadata": {},
   "source": [
    "Una vez tenemos la matriz de fases, queda asignar dichas fases a los estados cuánticos. Para ello, se han implementado dos funciones: `coste1q()` y `phasing()`.\n",
    "\n",
    "La función `coste1q()` actúa sobre un único qubit y se encarga de dar las fases a y b, que se le pasan como parámetros, a los estados $\\ket{0}$ y $\\ket{1}$ respectivamente. Esta función crea un circuito cuántico de un solo qubit, y mediante dos puertas FASE y una puerta NOT, se les asigna dichas fases a los estados cuánticos. La primera puerta de fase actúa sobre el estado $\\ket{0}$ y la segunda sobre el estado $\\ket{1}$.\n",
    "\n",
    "La función `phasing()` se encarga de dar fases a todos los estados que forman el espacio de Hilbert. Esta función crea un circuito más grande, en el que, gracias a la función coste1q(a,b) como puerta condicionada, es posible asignar las fases correspondientes a cada estado.\n",
    "\n",
    "Se han utilizado un total de cinco qubits en nuestro circuito, por lo que la función\n",
    "`coste1q()` como puerta condicionada tendría como qubit destino el qubit 0, y los qubits del 1 al 4 como qubits de control.\n",
    "\n",
    "Como, en la matriz escalada, cada enlace entre cada par de ciudades tiene, o bien fase 0, o bien fase $π/2$ , es necesario decidir de qué forma se van a aplicar dichas fases a los estados, para que la fase final de cada uno tenga uno de los valores de fase válidos, los cuales son $[0, π/2 , π, 3π/2]$. Para conseguirlo, solo se han tenido en cuenta los tres primeros pasos de cada camino, ya que con cualquier combinación de fases de la matriz obtendríamos una fase final dentro del rango válido. En cambio, para tener en cuenta todo el camino completo, tendríamos que dividir los caminos en más grupos de fases."
   ]
  },
  {
   "cell_type": "markdown",
   "id": "e9dd5965-1772-4bfa-b85e-d2ba402e8e04",
   "metadata": {},
   "source": [
    "#### 4.4.1 Resultados obtenidos"
   ]
  },
  {
   "attachments": {},
   "cell_type": "markdown",
   "id": "728939d2-df3d-4f9b-90fd-ef46c4d54a1e",
   "metadata": {},
   "source": [
    "A partir de la matriz de distancia de ciudades propuestaescribir matriz en markdown\n",
    "\n",
    "$$\n",
    "M =\n",
    "\\left(\\begin{array}{cc} \n",
    "0 & 639.58 & 959.34 & 697.95 & 348.29 \\\\\n",
    "639.58 & 0 & 343.56 & 263.90 & 683.92 \\\\\n",
    "959.34 & 343.56 & 0 & 320.31 & 917.96 \\\\\n",
    "697.95 & 263.90 & 320.31 & 0 & 602.47 \\\\\n",
    "348.29 & 683.92 & 917.96 & 602.47 & 0 \\\\\n",
    "\\end{array}\\right)\n",
    "$$ \n",
    "\n",
    "Obtenemos la siguiente matriz escalada a fases\n",
    "\n",
    "$$\n",
    "M =\n",
    "\\left(\\begin{array}{cc} \n",
    "0 & 0 & \\frac{\\pi}{2} & \\frac{\\pi}{2} & 0 \\\\\n",
    "\\frac{\\pi}{2} & 0 & 0 & 0 & \\frac{\\pi}{2} \\\\\n",
    "\\frac{\\pi}{2} & 0 & 0 & 0 & \\frac{\\pi}{2} \\\\\n",
    "\\frac{\\pi}{2} & 0 & 0 & 0 & \\frac{\\pi}{2} \\\\\n",
    "0 & \\frac{\\pi}{2} & \\frac{\\pi}{2} & 0 & 0 \\\\\n",
    "\\end{array}\\right)\n",
    "$$\n",
    "\n",
    "Ahora, procedemos a ejecutar el algoritmo."
   ]
  },
  {
   "cell_type": "code",
   "execution_count": 1,
   "id": "b5c5fcf6",
   "metadata": {},
   "outputs": [],
   "source": [
    "# importación de librerías\n",
    "from qiskit import IBMQ, Aer , assemble , transpile\n",
    "from qiskit import QuantumCircuit , ClassicalRegister, QuantumRegister\n",
    "\n",
    "# impor t b a s i c t o o l s\n",
    "import matplotlib.pyplot as plt\n",
    "import numpy as np\n",
    "import pandas as pd\n",
    "import random as rd\n",
    "from qiskit.visualization import plot_histogram\n",
    "from math import pi , sqrt"
   ]
  },
  {
   "cell_type": "code",
   "execution_count": 2,
   "id": "282e134a",
   "metadata": {},
   "outputs": [],
   "source": [
    "#Función que asigna una fase a cada estado posible con 1 qubit\n",
    "#Los valores de entrada se obtienen de la matriz de fases\n",
    "\n",
    "def coste1q(a,b) :\n",
    "    qc = QuantumCircuit ( 1 )\n",
    "    qc.p(a, 0)\n",
    "    qc.x(0)\n",
    "    qc.p(b, 0)\n",
    "    return qc\n"
   ]
  },
  {
   "cell_type": "code",
   "execution_count": 3,
   "id": "054815ac",
   "metadata": {},
   "outputs": [],
   "source": [
    "# Función para pasar la matriz de costes a fases\n",
    "def escalarMatriz(m2) :\n",
    "    matrix = pd.DataFrame (m2)\n",
    "    maxValues = matrix.max( axis = 1 )\n",
    "    minValues = matrix.min( axis = 1 )\n",
    "\n",
    "    for i in range ( 5 ) :\n",
    "        a = maxValues[i]\n",
    "        b = minValues[i]\n",
    "        c = (a-b)/2\n",
    "        for j in range ( 5 ) :\n",
    "            d = m2[i][j]\n",
    "            if( d>=b ) and ( d<=b+c ):\n",
    "                m2[ i ] [ j ]=0\n",
    "            elif( d>=b+c+1) and ( d<=a ):\n",
    "                m2[i][j]= pi /2\n",
    "    return m2\n"
   ]
  },
  {
   "cell_type": "code",
   "execution_count": 4,
   "id": "e2ffb9be",
   "metadata": {},
   "outputs": [],
   "source": [
    "#Definimos función que da las fases a los diferentes estados\n",
    "def phasing( ):\n",
    "    qc = QuantumCircuit( 5 )\n",
    "    cPhase0000=coste1q(m[0][1] + m[1][2] + m[2][3] , m[0][1] + m[1][2] + m[2][4]).to_gate( ).control(4)\n",
    "    qc.x([ 1 , 2 , 3 , 4 ] )\n",
    "    qc.append( cPhase0000 , [ 4 , 3 , 2 , 1 , 0 ] )\n",
    "    qc.x( [ 1 , 2 , 3 , 4 ] )\n",
    "    \n",
    "    cPhase0001=coste1q(m[0][1] + m[1][3] + m[3][4] , m[0][1] + m[1][3] + m[3][2]).to_gate( ).control(4)\n",
    "    qc.cx(1, [ 2 , 3 , 4 ])\n",
    "    qc.append(cPhase0001 , [ 4 , 3 , 2 , 1 , 0 ])\n",
    "    qc.cx(1, [ 2 , 3 , 4 ] )\n",
    "    \n",
    "    cPhase0010=coste1q(m[0][1] + m[1][4] + m[4][2] , m[0][1] + m[1][4] + m[4][3]).to_gate( ).control(4)\n",
    "    qc.cx ( 2 , [ 1 , 3 , 4 ] )\n",
    "    qc.append ( cPhase0010 , [ 4 , 3 , 2 , 1 , 0 ] )\n",
    "    qc.cx ( 2 , [ 1 , 3 , 4 ] )\n",
    "    \n",
    "    cPhase0011=coste1q( pi , pi ).to_gate( ).control(4)\n",
    "    qc.mcx ( [ 1 , 2 ] , 3 )\n",
    "    qc.mcx ( [ 1 , 2 ] , 4 )\n",
    "    qc.append ( cPhase0011 , [ 4 , 3 , 2 , 1 , 0 ] )\n",
    "    qc.mcx ( [ 1 , 2 ] , 3 )\n",
    "    qc.mcx ( [ 1 , 2 ] , 4 )\n",
    "    \n",
    "    cPhase0100=coste1q(m[0][2] + m[2][3] + m[3][4] , m[0][2] + m[2][3] + m[3][1]).to_gate( ).control(4)\n",
    "    qc.cx( 3 , 4 )\n",
    "    qc.cx( 3 , 1 )\n",
    "    qc.cx( 3 , 2 )\n",
    "    qc.append( cPhase0100 , [ 4 , 3 , 2 , 1 , 0 ] )\n",
    "    qc.cx ( 3 , 4 )\n",
    "    qc.cx ( 3 , 1 )\n",
    "    qc.cx ( 3 , 2 )\n",
    "    \n",
    "    cPhase0101=coste1q(m[0][2] + m[2][4] + m[4][1] , m[0][2] + m[2][4] + m[4][3]).to_gate( ).control(4)\n",
    "    qc.mcx ( [ 1 , 3 ] , 2 )\n",
    "    qc.mcx ( [ 1 , 3 ] , 4 )\n",
    "    qc.append ( cPhase0101 , [ 4 , 3 , 2 , 1 , 0 ] )\n",
    "    qc.mcx ( [ 1 , 3 ] , 2 )\n",
    "    qc.mcx ( [ 1 , 3 ] , 4 )\n",
    "    \n",
    "    cPhase0110=coste1q(m[0][2] + m[2][1] + m[1][3] ,m [0][2] + m[2][1 ] +m[1][4]).to_gate( ).control(4)\n",
    "    qc.mcx ( [ 2 , 3 ] , 1 )\n",
    "    qc.mcx ( [ 2 , 3 ] , 4 )\n",
    "    qc.append ( cPhase0110 , [ 4 , 3 , 2 , 1 , 0 ] )\n",
    "    qc.mcx ( [ 2 , 3 ] , 1 )\n",
    "    qc.mcx ( [ 2 , 3 ] , 4 )\n",
    "    \n",
    "    cPhase0111=coste1q( pi , pi ).to_gate( ).control(4)\n",
    "    qc.mcx ( [ 1 , 2 , 3 ] , 4 )\n",
    "    qc.append ( cPhase0111 , [ 4 , 3 , 2 , 1 , 0 ] )\n",
    "    qc.mcx ( [ 1 , 2 , 3 ] , 4 )\n",
    "    \n",
    "    cPhase1000=coste1q(m[0][3] +m[3][4] +m[4][1] ,m[0][3] +m[3][4] +m[4][2] ).to_gate( ).control(4)\n",
    "    qc.cx ( 4 , [ 3 , 2 , 1 ] )\n",
    "    qc.append ( cPhase1000 , [ 4 , 3 , 2 , 1 , 0 ] )\n",
    "    qc.cx ( 4 , [ 3 , 2 , 1 ] )\n",
    "    \n",
    "    cPhase1001=coste1q(m[0][3] +m[3][1] +m[1][2] ,m[0][3] +m[3][1] +m[1][4]).to_gate( ).control(4)\n",
    "    qc.mcx ( [ 4 , 1 ] , 3 )\n",
    "    qc.mcx ( [ 4 , 1 ] , 2 )\n",
    "    qc.append ( cPhase1001 , [ 4 , 3 , 2 , 1 , 0 ] )\n",
    "    qc.mcx ( [ 4 , 1 ] , 3 )\n",
    "    qc.mcx ( [ 4 , 1 ] , 2 )\n",
    "    \n",
    "    cPhase1010=coste1q(m[0][3] +m[3][2] +m[2][4] ,m[0][3] +m[3][2] +m[2][1]).to_gate( ).control(4)\n",
    "    qc . mcx ( [ 4 , 2 ] , 3 )\n",
    "    qc . mcx ( [ 4 , 2 ] , 1 )\n",
    "    qc . append ( cPhase1010 , [ 4 , 3 , 2 , 1 , 0 ] )\n",
    "    qc . mcx ( [ 4 , 2 ] , 3 )\n",
    "    qc . mcx ( [ 4 , 2 ] , 1 )\n",
    "    \n",
    "    cPhase1011=coste1q( pi , pi ).to_gate( ).control(4)\n",
    "    qc.mcx ( [ 4 , 2 , 1 ] , 3 )\n",
    "    qc.append ( cPhase1011 , [ 4 , 3 , 2 , 1 , 0 ] )\n",
    "    qc.mcx ( [ 4 , 2 , 1 ] , 3 )\n",
    "    \n",
    "    cPhase1100=coste1q(m[0][4] +m[4][1] +m[1][2] ,m[0][4] +m[4][1] +m[1][3]).to_gate( ).control(4)\n",
    "    qc.mcx ( [ 4 , 3 ] , 2 )\n",
    "    qc.mcx ( [ 4 , 3 ] , 1 )\n",
    "    qc.append ( cPhase1100 , [ 4 , 3 , 2 , 1 , 0 ] )\n",
    "    qc.mcx ( [ 4 , 3 ] , 2 )\n",
    "    qc.mcx ( [ 4 , 3 ] , 1 )\n",
    "    \n",
    "    cPhase1101=coste1q(m[0][4] +m[4][2] +m[2][3] ,m[0][4] +m[4][2] +m[2][1]).to_gate( ).control(4)\n",
    "    qc.mcx ( [ 4 , 3 , 1 ] , 2 )\n",
    "    qc.append ( cPhase1101 , [ 4 , 3 , 2 , 1 , 0 ] )\n",
    "    qc.mcx ( [ 4 , 3 , 1 ] , 2 )\n",
    "    \n",
    "    cPhase1110=coste1q(m[0][4] +m[4][3] +m[3][1] ,m[0][4] +m[4][3] +m[3][2]).to_gate( ).control(4)\n",
    "    qc.mcx ( [ 4 , 3 , 2 ] , 1 )\n",
    "    qc.append ( cPhase1110 , [ 4 , 3 , 2 , 1 , 0 ] )\n",
    "    qc.mcx ( [ 4 , 3 , 2 ] , 1 )\n",
    "    \n",
    "    cPhase1111=coste1q( pi , pi ).to_gate( ).control(4)\n",
    "    qc.append ( cPhase1111 , [ 4 , 3 , 2 , 1 , 0 ] )\n",
    "    return qc\n",
    "\n"
   ]
  },
  {
   "cell_type": "code",
   "execution_count": 5,
   "id": "cff76908",
   "metadata": {},
   "outputs": [],
   "source": [
    "#Definimos nuestrafunción que hará de amplificadorodi fusor ( Fuente:qiskit.org )\n",
    "\n",
    "def diffuser(nqubits):\n",
    "    qc = QuantumCircuit(nqubits)\n",
    "    for qubit in range(nqubits):\n",
    "        qc.h(qubit)\n",
    "    for qubit in range(nqubits):\n",
    "        qc.x(qubit)\n",
    "    qc.h(nqubits - 1)\n",
    "    qc.mct(list(range(nqubits - 1)), nqubits - 1)\n",
    "    qc.h(nqubits - 1)\n",
    "    for qubit in range(nqubits):\n",
    "        qc.x(qubit)\n",
    "    for qubit in range(nqubits):\n",
    "        qc.h(qubit)\n",
    "    U_s = qc.to_gate()\n",
    "    U_s.name = \"I\"\n",
    "    return U_s"
   ]
  },
  {
   "cell_type": "code",
   "execution_count": 48,
   "id": "df842f61",
   "metadata": {},
   "outputs": [],
   "source": [
    "#Asignamos matriz de costes\n",
    "costes = [[np.nan, 639.58, 959.34, 697.95, 348.29] , [639.58, np.nan, 343.56, 263.90, 683.92] , [959.34, 343.56, np.nan, 320.31, 917.96] , [697.95, 263.90, 320.31, np.nan, 602.47] , [348.29, 683.92, 917.96, 602.47, np.nan]]\n",
    "costes1 = np.copy(costes)\n"
   ]
  },
  {
   "cell_type": "code",
   "execution_count": 49,
   "id": "dee1d713",
   "metadata": {},
   "outputs": [
    {
     "name": "stdout",
     "output_type": "stream",
     "text": [
      "[[       nan 0.         1.57079633 1.57079633 0.        ]\n",
      " [1.57079633        nan 0.         0.         1.57079633]\n",
      " [1.57079633 0.                nan 0.         1.57079633]\n",
      " [1.57079633 0.         0.                nan 1.57079633]\n",
      " [0.         1.57079633 1.57079633 0.                nan]]\n"
     ]
    }
   ],
   "source": [
    "#La pasamos por la función escalarMatriz\n",
    "m = escalarMatriz( costes1 )\n",
    "print(m)"
   ]
  },
  {
   "cell_type": "code",
   "execution_count": 50,
   "id": "e20293be",
   "metadata": {},
   "outputs": [
    {
     "data": {
      "text/plain": [
       "<qiskit.circuit.instructionset.InstructionSet at 0x1e77b04cfd0>"
      ]
     },
     "execution_count": 50,
     "metadata": {},
     "output_type": "execute_result"
    }
   ],
   "source": [
    "tsp5 = QuantumCircuit( 5 )\n",
    "tsp5.h( [ 0 , 1 , 2 , 3 , 4 ] )\n"
   ]
  },
  {
   "cell_type": "code",
   "execution_count": 51,
   "id": "7d71156b",
   "metadata": {},
   "outputs": [],
   "source": [
    "phase = phasing().to_gate()\n",
    "phase.name=\"C\""
   ]
  },
  {
   "cell_type": "code",
   "execution_count": 93,
   "id": "5ee70aaf",
   "metadata": {
    "scrolled": true
   },
   "outputs": [
    {
     "name": "stderr",
     "output_type": "stream",
     "text": [
      "C:\\Users\\jaifu\\AppData\\Local\\Temp\\ipykernel_6732\\659969205.py:18: DeprecationWarning: Using a qobj for run() is deprecated as of qiskit-aer 0.9.0 and will be removed no sooner than 3 months from that release date. Transpiled circuits should now be passed directly using `backend.run(circuits, **run_options).\n",
      "  results = aer_sim.run( qobj ).result()\n"
     ]
    }
   ],
   "source": [
    "from qiskit import QuantumCircuit, execute, Aer\n",
    "from qiskit.primitives import Sampler\n",
    "\n",
    "from qiskit.visualization import plot_histogram\n",
    "import matplotlib.pyplot as plt\n",
    "\n",
    "for i in range ( 1 ) :\n",
    "    tsp5.append ( phase , [ 0 , 1 , 2 , 3 , 4 ] )\n",
    "    tsp5.append ( diffuser( 5 ) , [ 0 , 1 , 2 , 3 , 4 ] )\n",
    "    \n",
    "\n",
    "\n",
    "tsp5.measure_all()\n",
    "\n",
    "aer_sim = Aer.get_backend( 'aer_simulator')\n",
    "transpiled_grover_circuit = transpile( tsp5 , aer_sim )\n",
    "qobj = assemble(transpiled_grover_circuit)\n",
    "results = aer_sim.run( qobj ).result()\n",
    "counts = results.get_counts ( )\n",
    "#plot_histogram( counts , title=' First iteration' )\n",
    "\n",
    "\n",
    "\n"
   ]
  },
  {
   "cell_type": "code",
   "execution_count": 108,
   "id": "33ff5c9e",
   "metadata": {},
   "outputs": [
    {
     "name": "stdout",
     "output_type": "stream",
     "text": [
      "Estado con el mayor número de counts: 0 con 11 counts\n",
      "00000\n"
     ]
    }
   ],
   "source": [
    "max_state = max(counts, key=counts.get)\n",
    "print(f\"Estado con el mayor número de counts: {max_state[0]} con {counts[max_state]} counts\")\n",
    "maxB =format(int(max_state[0]), '05b')\n",
    "print(maxB)"
   ]
  },
  {
   "cell_type": "code",
   "execution_count": 109,
   "id": "206bbe38",
   "metadata": {},
   "outputs": [],
   "source": [
    "# Definimos nuestro oráculo Uf para marcar la ruta óptima\n",
    "def Uf_tsp(circuit, qreg, ancilla):\n",
    "    # Convertir el índice de la ruta óptima a binario y aplicarlo como control\n",
    "    for i, bit in enumerate(maxB):\n",
    "        if bit == '0':\n",
    "            circuit.x(qreg[i])\n",
    "    circuit.mcx(qreg, ancilla)\n",
    "    for i, bit in enumerate(maxB):\n",
    "        if bit == '0':\n",
    "            circuit.x(qreg[i])"
   ]
  },
  {
   "cell_type": "code",
   "execution_count": 110,
   "id": "f572298b",
   "metadata": {},
   "outputs": [],
   "source": [
    "# Definimos la función de inversión\n",
    "def inversion(circuit, quantum_reg, ancilla):\n",
    "    circuit.h(quantum_reg)\n",
    "    circuit.x(quantum_reg)\n",
    "    circuit.mcx(quantum_reg, ancilla)\n",
    "    circuit.x(quantum_reg)\n",
    "    circuit.h(quantum_reg)"
   ]
  },
  {
   "cell_type": "code",
   "execution_count": 111,
   "id": "58ae2d2c",
   "metadata": {},
   "outputs": [],
   "source": [
    "# Implementamos el algoritmo de Grover visto en clase\n",
    "def grover(U_f, n=5, iterations=4):\n",
    "    qreg = QuantumRegister(n, 'q')\n",
    "    ancilla = QuantumRegister(1, 'ancilla')\n",
    "    creg = ClassicalRegister(n, 'medición')\n",
    "\n",
    "    grover_circuit = QuantumCircuit(qreg, ancilla, creg)\n",
    "\n",
    "    # Paso inicial - igual superposición\n",
    "    grover_circuit.h(qreg)\n",
    "\n",
    "    # Iniciar ancilla\n",
    "    grover_circuit.x(ancilla)\n",
    "    grover_circuit.h(ancilla)\n",
    "    grover_circuit.barrier()\n",
    "\n",
    "    # Iteraciones de Grover\n",
    "    for _ in range(iterations):\n",
    "        # Consulta (query)\n",
    "        U_f(grover_circuit, qreg, ancilla)\n",
    "        grover_circuit.barrier()\n",
    "\n",
    "        # Inversión\n",
    "        inversion(grover_circuit, qreg, ancilla)\n",
    "        grover_circuit.barrier()\n",
    "\n",
    "    # Regresar el ancilla\n",
    "    grover_circuit.h(ancilla)\n",
    "    grover_circuit.x(ancilla)\n",
    "    grover_circuit.barrier()\n",
    "\n",
    "    # Medición\n",
    "    grover_circuit.measure(qreg, creg)\n",
    "\n",
    "    # Ejecutar el circuito\n",
    "    sampler = Sampler()\n",
    "    job = sampler.run(grover_circuit)\n",
    "\n",
    "    probs = job.result().quasi_dists[0].binary_probabilities()\n",
    "\n",
    "    # Imprimir el resultado\n",
    "    for outcome in probs:\n",
    "        print(\"El elemento\", outcome, \"es observado con probabilidad\", probs[outcome])\n",
    "\n",
    "    display(grover_circuit.draw(output='mpl'))"
   ]
  },
  {
   "cell_type": "code",
   "execution_count": 112,
   "id": "bedd99bf",
   "metadata": {},
   "outputs": [
    {
     "name": "stdout",
     "output_type": "stream",
     "text": [
      "El elemento 00000 es observado con probabilidad 0.9991823155432752\n",
      "El elemento 00001 es observado con probabilidad 2.63769179583e-05\n",
      "El elemento 00010 es observado con probabilidad 2.63769179583e-05\n",
      "El elemento 00011 es observado con probabilidad 2.63769179583e-05\n",
      "El elemento 00100 es observado con probabilidad 2.63769179583e-05\n",
      "El elemento 00101 es observado con probabilidad 2.63769179583e-05\n",
      "El elemento 00110 es observado con probabilidad 2.63769179583e-05\n",
      "El elemento 00111 es observado con probabilidad 2.63769179583e-05\n",
      "El elemento 01000 es observado con probabilidad 2.63769179583e-05\n",
      "El elemento 01001 es observado con probabilidad 2.63769179583e-05\n",
      "El elemento 01010 es observado con probabilidad 2.63769179583e-05\n",
      "El elemento 01011 es observado con probabilidad 2.63769179583e-05\n",
      "El elemento 01100 es observado con probabilidad 2.63769179583e-05\n",
      "El elemento 01101 es observado con probabilidad 2.63769179583e-05\n",
      "El elemento 01110 es observado con probabilidad 2.63769179583e-05\n",
      "El elemento 01111 es observado con probabilidad 2.63769179583e-05\n",
      "El elemento 10000 es observado con probabilidad 2.63769179583e-05\n",
      "El elemento 10001 es observado con probabilidad 2.63769179583e-05\n",
      "El elemento 10010 es observado con probabilidad 2.63769179583e-05\n",
      "El elemento 10011 es observado con probabilidad 2.63769179583e-05\n",
      "El elemento 10100 es observado con probabilidad 2.63769179583e-05\n",
      "El elemento 10101 es observado con probabilidad 2.63769179583e-05\n",
      "El elemento 10110 es observado con probabilidad 2.63769179583e-05\n",
      "El elemento 10111 es observado con probabilidad 2.63769179583e-05\n",
      "El elemento 11000 es observado con probabilidad 2.63769179583e-05\n",
      "El elemento 11001 es observado con probabilidad 2.63769179583e-05\n",
      "El elemento 11010 es observado con probabilidad 2.63769179583e-05\n",
      "El elemento 11011 es observado con probabilidad 2.63769179583e-05\n",
      "El elemento 11100 es observado con probabilidad 2.63769179583e-05\n",
      "El elemento 11101 es observado con probabilidad 2.63769179583e-05\n",
      "El elemento 11110 es observado con probabilidad 2.63769179583e-05\n",
      "El elemento 11111 es observado con probabilidad 2.63769179583e-05\n"
     ]
    },
    {
     "data": {
      "image/png": "[encoded data removed]",
      "text/plain": [
       "<Figure size 2304.3x1956.5 with 1 Axes>"
      ]
     },
     "metadata": {},
     "output_type": "display_data"
    }
   ],
   "source": [
    "# Ejecutar el algoritmo de Grover para el oráculo definido\n",
    "grover(Uf_tsp)"
   ]
  },
  {
   "cell_type": "markdown",
   "id": "13bf1bb2-ce38-472b-8c07-f2d737119ed7",
   "metadata": {},
   "source": [
    "### 4.5 Solución clásica vs cuántica"
   ]
  },
  {
   "cell_type": "markdown",
   "id": "2887b08b-52c6-460b-896d-1d44743dc7f8",
   "metadata": {},
   "source": [
    "En esta sección discutiremos cómo un algoritmo clásico se aborda para resolver el problema del TSP y luego lo contrastaremos con el enfoque cuántico que ofrece el algoritmo de Grover.\n",
    "\n",
    "Lo slagoritmo cuánticos suelen ser más eficientes que la fuerza bruta, especialmente para instancias grandes del problema, aunque generalmente no garantizan encontrar la solución óptima.\n",
    "\n",
    "Si consideramos el algoritmo de Grover en un contexto cuántico, podríamos utilizarlo para buscar eficientemente la mejor solución dentro de un conjunto de posibles rutas. El algoritmo de Grover proporciona una mejora cuadrática en la búsqueda no estructurada, lo que podría reducir significativamente el número de evaluaciones necesarias para encontrar la ruta óptima.\n",
    "\n",
    "El algoritmo clásico para resolverlo, generalmente utiliza técnicas de fuerza bruta o heurísticas, enfrentando desafíos de eficiencia a medida que el tamaño del problema crece. En contraste, el enfoque cuántico basado en el algoritmo de Grover promete una aceleración significativa, aunque su implementación práctica requiere hardware cuántico avanzado que aún está en desarrollo. Mientras tanto, los algoritmos clásicos continúan siendo la herramienta principal para abordar el TSP en aplicaciones del mundo real."
   ]
  },
  {
   "cell_type": "markdown",
   "id": "95fd539d-6c29-46be-ba3a-79cc60e73096",
   "metadata": {},
   "source": [
    "# 5. Conclusiones"
   ]
  },
  {
   "cell_type": "markdown",
   "id": "4a62a03c-8c73-47b8-8a9d-e154494ffecc",
   "metadata": {},
   "source": [
    "El algoritmo de Grover representa un hito significativo en el campo de la computación cuántica, destacándose por su capacidad para acelerar drásticamente la búsqueda en bases de datos no estructuradas. Propuesto por Lov Grover en 1996, este algoritmo ofrece una mejora cuadrática en eficiencia en comparación con los métodos clásicos de búsqueda lineal.\n",
    "\n",
    "A pesar de su potencial teórico, la implementación práctica del algoritmo de Grover enfrenta desafíos significativos debido a la necesidad de un hardware cuántico estable y escalable. Actualmente, la tecnología cuántica está en desarrollo, y la creación de qubits confiables y la corrección de errores cuánticos son áreas activas de investigación. Sin embargo, los avances continuos en estos campos sugieren que el algoritmo de Grover y otros algoritmos cuánticos podrían volverse prácticos en un futuro no tan lejano.\n",
    "\n",
    "A medida que la computación cuántica avanza, se espera que el algoritmo de Grover desempeñe un papel crucial en la resolución de problemas complejos que son intratables para las computadoras clásicas. Su capacidad para reducir drásticamente el tiempo de búsqueda puede transformar numerosos sectores, mejorando la eficiencia y posibilitando nuevos descubrimientos.\n",
    "\n",
    "Como algo crucial, el algoritmo de Grover no solo es una demostración impresionante del poder de la computación cuántica, sino que también establece un camino hacia la resolución más eficiente de problemas en un mundo que cada vez depende más de grandes volúmenes de datos y la necesidad de procesarlos rápidamente. A medida que la tecnología cuántica madura, las aplicaciones prácticas de Grover y otros algoritmos cuánticos prometen revolucionar la informática y más allá."
   ]
  },
  {
   "cell_type": "markdown",
   "id": "395c5acd-45e3-4807-8dee-96d0e18949cd",
   "metadata": {},
   "source": [
    "# 6. Información del sistema de ejecución\n"
   ]
  },
  {
   "cell_type": "code",
   "execution_count": 5,
   "id": "af2e32bb-f357-46f0-b8f7-5d1fa13e5c4f",
   "metadata": {},
   "outputs": [
    {
     "data": {
      "text/html": [
       "<h3>Version Information</h3><table><tr><th>Qiskit Software</th><th>Version</th></tr><tr><td><code>qiskit-terra</code></td><td>0.24.2</td></tr><tr><td><code>qiskit-aer</code></td><td>0.12.2</td></tr><tr><td><code>qiskit-ibmq-provider</code></td><td>0.20.2</td></tr><tr><td><code>qiskit</code></td><td>0.43.3</td></tr><tr><th>System information</th></tr><tr><td>Python version</td><td>3.9.19</td></tr><tr><td>Python compiler</td><td>MSC v.1916 64 bit (AMD64)</td></tr><tr><td>Python build</td><td>main, Mar 21 2024 17:21:27</td></tr><tr><td>OS</td><td>Windows</td></tr><tr><td>CPUs</td><td>4</td></tr><tr><td>Memory (Gb)</td><td>7.8372039794921875</td></tr><tr><td colspan='2'>Tue Jun 04 03:31:46 2024 Hora estándar central (México)</td></tr></table>"
      ],
      "text/plain": [
       "<IPython.core.display.HTML object>"
      ]
     },
     "metadata": {},
     "output_type": "display_data"
    }
   ],
   "source": [
    "import qiskit.tools.jupyter\n",
    "\n",
    "%qiskit_version_table"
   ]
  },
  {
   "cell_type": "markdown",
   "id": "bba6f158-c7c6-4080-984b-f09450d88b71",
   "metadata": {},
   "source": [
    "# 7. Referencias "
   ]
  },
  {
   "cell_type": "code",
   "execution_count": null,
   "id": "78f0bbd6-70fb-4143-bbdf-2fad26483c76",
   "metadata": {},
   "outputs": [],
   "source": []
  }
 ],
 "metadata": {
  "kernelspec": {
   "display_name": "Python 3 (ipykernel)",
   "language": "python",
   "name": "python3"
  },
  "language_info": {
   "codemirror_mode": {
    "name": "ipython",
    "version": 3
   },
   "file_extension": ".py",
   "mimetype": "text/x-python",
   "name": "python",
   "nbconvert_exporter": "python",
   "pygments_lexer": "ipython3",
   "version": "3.9.19"
  }
 },
 "nbformat": 4,
 "nbformat_minor": 5
}
