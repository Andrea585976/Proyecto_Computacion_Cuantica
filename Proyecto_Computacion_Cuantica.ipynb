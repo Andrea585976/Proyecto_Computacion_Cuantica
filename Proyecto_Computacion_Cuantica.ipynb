{
 "cells": [
  {
   "cell_type": "markdown",
   "id": "416a2171",
   "metadata": {},
   "source": [
    "<table>\n",
    "    <tr style=\"background-color: transparent;  text-align:center;\">\n",
    "        <td><font size=\"7\" color=\"FF3434\">Computación cuántica</font></td>\n",
    "    </tr>\n",
    "    <tr style=\"background-color: transparent; text-align:center;\">\n",
    "        <td><font size=\"6\" color=\"black\">Proyecto: Optimización de rutas para\n",
    "una empresa de entregas </font></td>\n",
    "    </tr>\n",
    "    <tr style=\"background-color: transparent; text-align:center;\">\n",
    "        <td><font size=\"5\" color=\"black\">Facultad de Ingeniería, UNAM</font></td>\n",
    "    </tr>\n",
    "    <tr style=\"background-color: transparent; text-align:center;\">\n",
    "        <td><font size=\"4\" color=\"black\">Semestre 2024-2</font></td>\n",
    "    </tr>\n",
    "   \n",
    "</table>"
   ]
  },
  {
   "cell_type": "markdown",
   "id": "2618cdea",
   "metadata": {},
   "source": [
    "# 1. Marco teórico"
   ]
  },
  {
   "cell_type": "markdown",
   "id": "ea53c512",
   "metadata": {},
   "source": [
    "## 1.1 Problema del vendedor ambulante"
   ]
  },
  {
   "cell_type": "markdown",
   "id": "9315482b",
   "metadata": {},
   "source": [
    "### 1.1.1 Descripción del problmea"
   ]
  },
  {
   "cell_type": "markdown",
   "id": "93eab4f4",
   "metadata": {},
   "source": [
    "El problema del vendedor ambulante o también llamado problema del agente viajero consiste en, dada una distribución de N ciudades, encontrar el camino más corto con el cual se visitan todas las ciudades, con las restricciones de solo poder pasar una vez por cada ciudad y de empezar y acabar el tour en la misma ciudad.\n",
    "\n",
    "Este problema pertenece al tipo de problemas NP-hard, por lo que actualmente no es posible encontrar la solución exacta en un tiempo polinómico."
   ]
  },
  {
   "cell_type": "markdown",
   "id": "caa853b7",
   "metadata": {},
   "source": [
    "## 1.2 Algoritmo de Grover"
   ]
  },
  {
   "cell_type": "markdown",
   "id": "8f30e7ff",
   "metadata": {},
   "source": [
    "# 2. Solución clásica"
   ]
  },
  {
   "cell_type": "markdown",
   "id": "5c196dd6",
   "metadata": {},
   "source": [
    "# 3. Solución cuántica"
   ]
  },
  {
   "cell_type": "markdown",
   "id": "d88fba3a",
   "metadata": {},
   "source": [
    "# 4. Referencias"
   ]
  },
  {
   "cell_type": "markdown",
   "id": "ca7e0144",
   "metadata": {},
   "source": [
    "https://github.com/clausia/cursofi-computacion-cuantica/blob/main/Lab8-Quantum-Annealing.ipynb\n",
    "\n",
    "https://repositorio.upct.es/server/api/core/bitstreams/5366941e-7c94-4598-a3d9-73a31e2ebba3/content\n",
    "\n",
    "https://qiskit-community.github.io/qiskit-optimization/locale/es_UN/tutorials/06_examples_max_cut_and_tsp.html\n"
   ]
  },
  {
   "cell_type": "code",
   "execution_count": null,
   "id": "20e82b17",
   "metadata": {},
   "outputs": [],
   "source": []
  }
 ],
 "metadata": {
  "kernelspec": {
   "display_name": "Python 3 (ipykernel)",
   "language": "python",
   "name": "python3"
  },
  "language_info": {
   "codemirror_mode": {
    "name": "ipython",
    "version": 3
   },
   "file_extension": ".py",
   "mimetype": "text/x-python",
   "name": "python",
   "nbconvert_exporter": "python",
   "pygments_lexer": "ipython3",
   "version": "3.11.5"
  }
 },
 "nbformat": 4,
 "nbformat_minor": 5
}
