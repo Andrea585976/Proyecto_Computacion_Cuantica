{
 "cells": [
  {
   "cell_type": "markdown",
   "id": "416a2171",
   "metadata": {},
   "source": [
    "<table>\n",
    "    <tr style=\"background-color: transparent;  text-align:center;\">\n",
    "        <td><font size=\"7\" color=\"FF3434\">Computación cuántica</font></td>\n",
    "    </tr>\n",
    "    <tr style=\"background-color: transparent; text-align:center;\">\n",
    "        <td><font size=\"6\" color=\"black\">Proyecto: Optimización de rutas para\n",
    "una empresa de entregas </font></td>\n",
    "    </tr>\n",
    "    <tr style=\"background-color: transparent; text-align:center;\">\n",
    "        <td><font size=\"5\" color=\"black\">Facultad de Ingeniería, UNAM</font></td>\n",
    "    </tr>\n",
    "    <tr style=\"background-color: transparent; text-align:center;\">\n",
    "        <td><font size=\"4\" color=\"black\">Semestre 2024-2</font></td>\n",
    "    </tr>\n",
    "   \n",
    "</table>"
   ]
  },
  {
   "cell_type": "markdown",
   "id": "2618cdea",
   "metadata": {},
   "source": [
    "# Abstracción del proyecto\n"
   ]
  },
  {
   "cell_type": "markdown",
   "id": "ea53c512",
   "metadata": {},
   "source": [
    "## Introducción \n",
    "El algoritmo de Grover, introducido por Lov Grover en 1996, constituye un desarrollo crucial en el ámbito de la computación cuántica. Este algoritmo es destacado por proporcionar una mejora considerable en la búsqueda, logrando una aceleración cuadrática en comparación con los métodos clásicos.\n",
    "\n",
    "Para comprender el algoritmo de Grover, es fundamental tener una base en computación cuántica. A diferencia de la computación clásica, que utiliza bits como unidades básicas de información (0 o 1), la computación cuántica se basa en qubits. Los qubits pueden existir en una superposición de estados, permitiendo realizar cálculos más complejos y paralelos de manera eficiente."
   ]
  },
  {
   "cell_type": "markdown",
   "id": "9315482b",
   "metadata": {},
   "source": [
    "### Descripción del problema"
   ]
  },
  {
   "cell_type": "markdown",
   "id": "93eab4f4",
   "metadata": {},
   "source": [
    "El problema del vendedor ambulante o también llamado problema del agente viajero consiste en, dada una distribución de N ciudades, encontrar el camino más corto con el cual se visitan todas las ciudades, con las restricciones de solo poder pasar una vez por cada ciudad y de empezar y acabar el tour en la misma ciudad.\n",
    "\n",
    "Este problema pertenece al tipo de problemas NP-hard, por lo que actualmente no es posible encontrar la solución exacta en un tiempo polinómico. \n",
    "\n"
   ]
  },
  {
   "cell_type": "markdown",
   "id": "caa853b7",
   "metadata": {},
   "source": [
    "### Algoritmo de Grover \n",
    "El algoritmo de Grover no solo se aplica a problemas de búsqueda en bases de datos, sino que también puede adaptarse para resolver diversos problemas donde la búsqueda no estructurada es esencial, como la factorización de números grandes y la optimización combinatoria. Sin embargo, su implementación práctica está limitada por la necesidad de un hardware cuántico robusto y estable, actualmente en desarrollo. \n"
   ]
  },
  {
   "cell_type": "markdown",
   "id": "8f30e7ff",
   "metadata": {},
   "source": [
    "### 1.1 Solución cuántica \n",
    "El algoritmo de Grover utiliza las propiedades cuánticas de superposición y entrelazamiento para buscar un elemento en una base de datos no estructurada de manera mucho más eficiente que los algoritmos clásicos. A través de la repetición de operaciones de oracle y difusión, el algoritmo amplifica la probabilidad del estado correcto, permitiendo identificar el elemento buscado con un número de consultas cuadráticamente menor. \n",
    "\n",
    "<img src='python_23.png'>\n"
   ]
  },
  {
   "cell_type": "markdown",
   "id": "5c196dd6",
   "metadata": {},
   "source": [
    "### 1.2 Solución clásica \n",
    "La solución clásica al problema de búsqueda en una base de datos no estructurada es la búsqueda lineal, que recorre secuencialmente cada elemento de la lista hasta encontrar el elemento deseado. Aunque este método es sencillo de implementar, su eficiencia es lineal, lo que significa que puede volverse ineficiente para grandes bases de datos en comparación con la mejora cuadrática que ofrece el algoritmo de Grover en un entorno cuántico.\n",
    "\n",
    "Inicialización\n",
    "   - Definimos una lista o arreglo que contiene los N elementos.\n",
    "   - Establecemos un índice inicial. \n",
    "   \n",
    "Búsqueda Lineal\n",
    "   - Iteramos sobre cada elemento de la lista:\n",
    "   - Comparamos el elemento en la posición con el elemento buscado.\n",
    "   - Si el elemento en la posición es igual a, hemos encontrado el elemento y podemos terminar la búsqueda.\n",
    "   - Si el elemento en la posición no es igual a x, incrementamos i, y continuamos con la siguiente iteración.\n"
   ]
  },
  {
   "cell_type": "markdown",
   "id": "d88fba3a",
   "metadata": {},
   "source": [
    "### Algoritmo clásico de Grover para resolver el problema del vendedor viajero (rutas) \n",
    "\n",
    "Para abordar la resolución del problema del vendedor viajero (TSP, por sus siglas en inglés) utilizando un enfoque clásico similar al algoritmo de Grover, primero debemos aclarar que el algoritmo de Grover es inherentemente cuántico y no tiene un equivalente directo en la computación clásica. Sin embargo, podemos discutir cómo un algoritmo clásico podría abordar el TSP y luego contrastarlo con el enfoque cuántico que ofrece el algoritmo de Grover.\n",
    "\n",
    "Problema del viajero\n",
    "    El problema del vendedor viajero TSP es un problema de optimización combinatoria en el que un vendedor debe visitar una serie de ciudades exactamente una vez y regresar a la ciudad de origen, minimizando la distancia total recorrida.\n",
    "\n",
    "\n",
    "Enfoque especial para el problema del viajero\n",
    "    Estos algoritmos suelen ser más eficientes que la fuerza bruta, especialmente para instancias grandes del problema, aunque generalmente no garantizan encontrar la solución óptima.\n",
    "\n",
    "Si consideramos el algoritmo de Grover en un contexto cuántico, podríamos utilizarlo para buscar eficientemente la mejor solución dentro de un conjunto de posibles rutas. El algoritmo de Grover proporciona una mejora cuadrática en la búsqueda no estructurada, lo que podría reducir significativamente el número de evaluaciones necesarias para encontrar la ruta óptima.\n",
    "\n",
    "Características\n",
    "\n",
    "1. Codificar todas las rutas posibles como estados cuánticos.\n",
    "2. Implementar una función oracle que marque la solución óptima (ruta de menor distancia).\n",
    "3. Aplicar el operador de Grover para amplificar la probabilidad del estado marcado.\n",
    "4. Medir el sistema cuántico para obtener la ruta óptima con alta probabilidad.\n",
    "\n",
    "El algoritmo clásico para resolverlo, generalmente utiliza técnicas de fuerza bruta o heurísticas, enfrentando desafíos de eficiencia a medida que el tamaño del problema crece. En contraste, el enfoque cuántico basado en el algoritmo de Grover promete una aceleración significativa, aunque su implementación práctica requiere hardware cuántico avanzado que aún está en desarrollo. Mientras tanto, los algoritmos clásicos continúan siendo la herramienta principal para abordar el TSP en aplicaciones del mundo real.\n",
    "\n",
    "### Conclusión \n",
    "\n",
    "El algoritmo de Grover representa un hito significativo en el campo de la computación cuántica, destacándose por su capacidad para acelerar drásticamente la búsqueda en bases de datos no estructuradas. Propuesto por Lov Grover en 1996, este algoritmo ofrece una mejora cuadrática en eficiencia en comparación con los métodos clásicos de búsqueda lineal.\n",
    "\n",
    "A pesar de su potencial teórico, la implementación práctica del algoritmo de Grover enfrenta desafíos significativos debido a la necesidad de un hardware cuántico estable y escalable. Actualmente, la tecnología cuántica está en desarrollo, y la creación de qubits confiables y la corrección de errores cuánticos son áreas activas de investigación. Sin embargo, los avances continuos en estos campos sugieren que el algoritmo de Grover y otros algoritmos cuánticos podrían volverse prácticos en un futuro no tan lejano.\n",
    "\n",
    "A medida que la computación cuántica avanza, se espera que el algoritmo de Grover desempeñe un papel crucial en la resolución de problemas complejos que son intratables para las computadoras clásicas. Su capacidad para reducir drásticamente el tiempo de búsqueda puede transformar numerosos sectores, mejorando la eficiencia y posibilitando nuevos descubrimientos.\n",
    "\n",
    "Como algo crucial, el algoritmo de Grover no solo es una demostración impresionante del poder de la computación cuántica, sino que también establece un camino hacia la resolución más eficiente de problemas en un mundo que cada vez depende más de grandes volúmenes de datos y la necesidad de procesarlos rápidamente. A medida que la tecnología cuántica madura, las aplicaciones prácticas de Grover y otros algoritmos cuánticos prometen revolucionar la informática y más allá.\n"
   ]
  },
  {
   "cell_type": "markdown",
   "id": "ca7e0144",
   "metadata": {},
   "source": [
    "https://github.com/clausia/cursofi-computacion-cuantica/blob/main/Lab8-Quantum-Annealing.ipynb\n",
    "\n",
    "https://repositorio.upct.es/server/api/core/bitstreams/5366941e-7c94-4598-a3d9-73a31e2ebba3/content\n",
    "\n",
    "https://qiskit-community.github.io/qiskit-optimization/locale/es_UN/tutorials/06_examples_max_cut_and_tsp.html\n"
   ]
  },
  {
   "cell_type": "code",
   "execution_count": null,
   "id": "20e82b17",
   "metadata": {},
   "outputs": [],
   "source": []
  }
 ],
 "metadata": {
  "kernelspec": {
   "display_name": "Python 3 (ipykernel)",
   "language": "python",
   "name": "python3"
  },
  "language_info": {
   "codemirror_mode": {
    "name": "ipython",
    "version": 3
   },
   "file_extension": ".py",
   "mimetype": "text/x-python",
   "name": "python",
   "nbconvert_exporter": "python",
   "pygments_lexer": "ipython3",
   "version": "3.11.5"
  }
 },
 "nbformat": 4,
 "nbformat_minor": 5
}
